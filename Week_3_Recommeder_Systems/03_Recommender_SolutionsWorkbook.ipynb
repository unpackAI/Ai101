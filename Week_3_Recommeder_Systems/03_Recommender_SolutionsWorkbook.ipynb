{
  "nbformat": 4,
  "nbformat_minor": 0,
  "metadata": {
    "accelerator": "GPU",
    "colab": {
      "name": "03_Recommender_SolutionsWorkbook.ipynb",
      "provenance": [],
      "collapsed_sections": [],
      "include_colab_link": true
    },
    "kernelspec": {
      "display_name": "Python 3",
      "name": "python3"
    },
    "language_info": {
      "name": "python"
    }
  },
  "cells": [
    {
      "cell_type": "markdown",
      "metadata": {
        "id": "view-in-github",
        "colab_type": "text"
      },
      "source": [
        "<a href=\"https://colab.research.google.com/github/unpackAI/Ai101/blob/main/Week_3_Recommeder_Systems/03_Recommender_SolutionsWorkbook.ipynb\" target=\"_parent\"><img src=\"https://colab.research.google.com/assets/colab-badge.svg\" alt=\"Open In Colab\"/></a>"
      ]
    },
    {
      "cell_type": "markdown",
      "metadata": {
        "id": "7j04QL-TPJy1"
      },
      "source": [
        "# 💻Week 3 Solution Workbook of unpackAI \"DL101 Bootcamp\"\n"
      ]
    },
    {
      "cell_type": "markdown",
      "metadata": {
        "id": "f0joGgV0POOt"
      },
      "source": [
        "## 📕 Learning Objectives\n",
        "\n",
        "* Understand the fundamental process of building your own collaborative filtering project."
      ]
    },
    {
      "cell_type": "markdown",
      "metadata": {
        "id": "Jx21fMyjgV1v"
      },
      "source": [
        "## unpackAI Assignment Section\n",
        "\n",
        " \n",
        "*   **Assignment 1**: Go through the multiple choice questions below and choose the correct answer. Discuss during the presentation session.\n",
        "*   **Assignment 2**: Build an entire model using the suggested data sets. you will need to understand the data and then decide how you want to approach the problme. Then test your model and see which items are closely related.\n",
        "\n"
      ]
    },
    {
      "cell_type": "code",
      "metadata": {
        "id": "ydHMYMCoFvcn"
      },
      "source": [
        "!pip install -Uqq fastbook\n",
        "!pip install -Uqq unpackai\n",
        "!pip install -Uqq tornado~=5.1.0 folium==0.2.1"
      ],
      "execution_count": null,
      "outputs": []
    },
    {
      "cell_type": "code",
      "metadata": {
        "id": "J0ATBkxK6WDC"
      },
      "source": [
        "from fastbook import *\n",
        "from fastai.collab import *\n",
        "from fastai.tabular.all import *"
      ],
      "execution_count": null,
      "outputs": []
    },
    {
      "cell_type": "markdown",
      "metadata": {
        "id": "W2frVl71OQJi"
      },
      "source": [
        "## Assigment 1: Go through the questions below and indicate the answers you have selected"
      ]
    },
    {
      "cell_type": "markdown",
      "metadata": {
        "id": "1O9n5eCpOQJj"
      },
      "source": [
        "### Questionnaire \n",
        "\n",
        "Make sure you are able to answer the questions as they are written to make sure that you have an understanding of the work that you have learned. "
      ]
    },
    {
      "cell_type": "markdown",
      "metadata": {
        "id": "J_0ecQs6hnQv"
      },
      "source": [
        "|#|Question|Answer\n",
        "|:--|:---|:---\n",
        "|1.|Name three types of recommender systems|A: Content based, Tabular based, Mixed approach\n",
        "|||B: Collaborative, Hybrid, Content based ![image.png](data:image/png;base64,iVBORw0KGgoAAAANSUhEUgAAAA4AAAAPCAYAAADUFP50AAAAVElEQVQ4jWNgGPTgPwPDfwYGBgYmkjWlGZNu03+Gmf9xOgG3JlR5JmRN2DTDxWamYTcNGWPIpRljdw02zQQ14deMJTCggBGrfxCSjAzEAmwhOMQBAO5dSb6K9MigAAAAAElFTkSuQmCC)\n",
        "|||C: Tabular, CNN method, Collaborative\n",
        "|2.|What are the different approaches to Content Based filtering?|A: Product-centered approach\n",
        "|||B: User information collaboration\n",
        "|||C: Item-Centered or user centered approach ![image.png](data:image/png;base64,iVBORw0KGgoAAAANSUhEUgAAAA4AAAAPCAYAAADUFP50AAAAVElEQVQ4jWNgGPTgPwPDfwYGBgYmkjWlGZNu03+Gmf9xOgG3JlR5JmRN2DTDxWamYTcNGWPIpRljdw02zQQ14deMJTCggBGrfxCSjAzEAmwhOMQBAO5dSb6K9MigAAAAAElFTkSuQmCC)\n",
        "|3.|Give an example of a use case for collaborative filtering|A: Netflix recomending movies based on your ratings ![image.png](data:image/png;base64,iVBORw0KGgoAAAANSUhEUgAAAA4AAAAPCAYAAADUFP50AAAAVElEQVQ4jWNgGPTgPwPDfwYGBgYmkjWlGZNu03+Gmf9xOgG3JlR5JmRN2DTDxWamYTcNGWPIpRljdw02zQQ14deMJTCggBGrfxCSjAzEAmwhOMQBAO5dSb6K9MigAAAAAElFTkSuQmCC)\n",
        "|||B: Amazon predicting your future orders\n",
        "|||C: Predicting the next crime hotspot\n",
        "|4.|What problem does collaborative filtering solve?|A: The problem of understanding the collaboration of different datasets\n",
        "|||B: The problem of having a large number of users and product and how to recommend different items to a user based on their previous choices and how they rated them.![image.png](data:image/png;base64,iVBORw0KGgoAAAANSUhEUgAAAA4AAAAPCAYAAADUFP50AAAAVElEQVQ4jWNgGPTgPwPDfwYGBgYmkjWlGZNu03+Gmf9xOgG3JlR5JmRN2DTDxWamYTcNGWPIpRljdw02zQQ14deMJTCggBGrfxCSjAzEAmwhOMQBAO5dSb6K9MigAAAAAElFTkSuQmCC)\n",
        "|||C The problem the Netflix had of how to recommend movies to users based on the movies that a user watched and what rating they gave it.![image.png](data:image/png;base64,iVBORw0KGgoAAAANSUhEUgAAAA4AAAAPCAYAAADUFP50AAAAVElEQVQ4jWNgGPTgPwPDfwYGBgYmkjWlGZNu03+Gmf9xOgG3JlR5JmRN2DTDxWamYTcNGWPIpRljdw02zQQ14deMJTCggBGrfxCSjAzEAmwhOMQBAO5dSb6K9MigAAAAAElFTkSuQmCC)\n",
        "|5.|What does NaN stand for?|A: Now and Never\n",
        "|||B: Numbers and Null\n",
        "|||C: Not a Number ![image.png](data:image/png;base64,iVBORw0KGgoAAAANSUhEUgAAAA4AAAAPCAYAAADUFP50AAAAVElEQVQ4jWNgGPTgPwPDfwYGBgYmkjWlGZNu03+Gmf9xOgG3JlR5JmRN2DTDxWamYTcNGWPIpRljdw02zQQ14deMJTCggBGrfxCSjAzEAmwhOMQBAO5dSb6K9MigAAAAAElFTkSuQmCC)\n",
        "|6.|How does Collaborative Filtering solve the problem of relationships between product and user?|A: Collaborative filtering uses latent factors to determine how items relate to each other and what customer's preferences are. ![image.png](data:image/png;base64,iVBORw0KGgoAAAANSUhEUgAAAA4AAAAPCAYAAADUFP50AAAAVElEQVQ4jWNgGPTgPwPDfwYGBgYmkjWlGZNu03+Gmf9xOgG3JlR5JmRN2DTDxWamYTcNGWPIpRljdw02zQQ14deMJTCggBGrfxCSjAzEAmwhOMQBAO5dSb6K9MigAAAAAElFTkSuQmCC)\n",
        "|||B: Collaborative filtering uses all the data you can feed the model and comes up with the best possible solution but we are not sure how it does this as the meaning of the latent factors is very abstract.\n",
        "|||C: Collaborative filtering uses a table of big data that is too big and complex for a person to look at and it can see patterns in the data that allow it to recommend items\n",
        "|7.|What would cause a Collaborative Filtering recommendation system to fail?|A: The model might fail because there is not sufficient data to be able to make the latent factors make sense.\n",
        "|||B: The model might fail if too many people put in inaccurate ratings in stead of giving an honest answer. The outcome is based on how accurately you rate a movie.![image.png](data:image/png;base64,iVBORw0KGgoAAAANSUhEUgAAAA4AAAAPCAYAAADUFP50AAAAVElEQVQ4jWNgGPTgPwPDfwYGBgYmkjWlGZNu03+Gmf9xOgG3JlR5JmRN2DTDxWamYTcNGWPIpRljdw02zQQ14deMJTCggBGrfxCSjAzEAmwhOMQBAO5dSb6K9MigAAAAAElFTkSuQmCC)\n",
        "|||C: The model might fail if it over fits the data.\n"
      ]
    },
    {
      "cell_type": "markdown",
      "metadata": {
        "id": "bU_H-ol_gihc"
      },
      "source": [
        "## Assigment 2: "
      ]
    },
    {
      "cell_type": "markdown",
      "metadata": {
        "id": "QUbu_n7fiITe"
      },
      "source": [
        "## Assignment 2: Build an entire collaborative filtering model starting from defining your objective, construcing your dataset to training your model and interpreting the results."
      ]
    },
    {
      "cell_type": "markdown",
      "metadata": {
        "id": "bJwCOygMFLe9"
      },
      "source": [
        "### Description of the Assignment"
      ]
    },
    {
      "cell_type": "markdown",
      "metadata": {
        "id": "KTH32hp9A6dJ"
      },
      "source": [
        "We have identified a number of data sets that you can use to build your own collabroative filtering project. Choose the data set that you would like to work on and by refactoring the code you have learned in the coursebook train your own colaborative filtering model and see what results you are able to get.  \n",
        "\n",
        "Below you will find a brief description of the data set you can choose to download the data set to your local computer and open it in Excel or you can use Python and look at the data so that you can define your project clearly before you make you final choice and start coding.\n",
        "\n",
        "\n",
        "1. **Anime Recommendations Database**\n",
        "\n",
        "This data set contains information on user preference data from 73,516 users on 12,294 anime. Each user is able to add anime to their completed list and give it a rating and this data set is a compliation of those ratings. You can build anime recommendation system based only on user viewing history.\n",
        "\n",
        "*Download the dataset here:*\n",
        "https://www.dropbox.com/s/5hf29yrvwxejg6i/anime_recommendations.zip?dl=1\n",
        "\n",
        "2. **Jester Collaborative Filtering Dataset** \n",
        "\n",
        "The funniness of joke is very subjective. Having more than 70,000 users rate jokes, can an algorithm be written to identify the universally funny joke? \n",
        "Since funniness is a very subjective matter, it will be very interesting to see if latent factors can bring out the details on what makes something funny.\n",
        "\n",
        "*Download the dataset here:*\n",
        "https://www.dropbox.com/s/ef1mytjms1indlf/jester_collaborative_filtering.zip?dl=1\n",
        "\n",
        "\n",
        "\n",
        "3. **Book Recommendation Dataset**\n",
        "\n",
        "Contains the book rating information. Ratings (Book-Rating) are either explicit, expressed on a scale from 1-10 (higher values denoting higher appreciation), or implicit, expressed by 0.\n",
        "\n",
        "*Download the dataset here:*\n",
        "https://www.dropbox.com/s/358awacarwmeumv/book_recommendation.zip?dl=1"
      ]
    },
    {
      "cell_type": "markdown",
      "metadata": {
        "id": "1MI2Pe3lFSqk"
      },
      "source": [
        "### Assignment 2 execution\n",
        "\n",
        "Once you have selected the data set you want to work on and you have defined your project you can start coding:"
      ]
    },
    {
      "cell_type": "markdown",
      "metadata": {
        "id": "MBEGzn64EChZ"
      },
      "source": [
        "### **Anime Recommendations Database** "
      ]
    },
    {
      "cell_type": "markdown",
      "metadata": {
        "id": "uZbAFF0TECh1"
      },
      "source": [
        "#### 1. Define a Recommender System problem and propose a solution:\n",
        "\n",
        "***Describe your items:*** \n",
        "\n",
        "***Describe your users:***\n",
        "\n",
        "***What's the rating range?:***\n"
      ]
    },
    {
      "cell_type": "markdown",
      "metadata": {
        "id": "u3WsR5dXECh1"
      },
      "source": [
        "#### 2. Collect and construct your dataset:"
      ]
    },
    {
      "cell_type": "code",
      "metadata": {
        "id": "bIm1jZGAECh2"
      },
      "source": [
        "path = untar_data('https://www.dropbox.com/s/5hf29yrvwxejg6i/anime_recommendations.zip?dl=1')"
      ],
      "execution_count": null,
      "outputs": []
    },
    {
      "cell_type": "code",
      "metadata": {
        "colab": {
          "base_uri": "https://localhost:8080/"
        },
        "id": "9P86Cvur61c4",
        "outputId": "8b21d025-b0de-4276-defc-4a7ba490b40c"
      },
      "source": [
        "path.ls()"
      ],
      "execution_count": null,
      "outputs": [
        {
          "output_type": "execute_result",
          "data": {
            "text/plain": [
              "(#2) [Path('/root/.fastai/data/anime_recommendations/rating.csv'),Path('/root/.fastai/data/anime_recommendations/anime.csv')]"
            ]
          },
          "metadata": {},
          "execution_count": 4
        }
      ]
    },
    {
      "cell_type": "markdown",
      "metadata": {
        "id": "6-0ynSZNECh5"
      },
      "source": [
        "#### 3. Carry out data transformation"
      ]
    },
    {
      "cell_type": "code",
      "metadata": {
        "colab": {
          "base_uri": "https://localhost:8080/",
          "height": 424
        },
        "id": "MMN95m1f6-N8",
        "outputId": "d2093f5e-25b4-45e0-d87e-58409a0b0512"
      },
      "source": [
        "ratings = pd.read_csv(path/'rating.csv')\n",
        "ratings"
      ],
      "execution_count": null,
      "outputs": [
        {
          "output_type": "execute_result",
          "data": {
            "text/html": [
              "\n",
              "  <div id=\"df-b9a3a9b8-3d03-4cfd-8b8b-26d338cc575e\">\n",
              "    <div class=\"colab-df-container\">\n",
              "      <div>\n",
              "<style scoped>\n",
              "    .dataframe tbody tr th:only-of-type {\n",
              "        vertical-align: middle;\n",
              "    }\n",
              "\n",
              "    .dataframe tbody tr th {\n",
              "        vertical-align: top;\n",
              "    }\n",
              "\n",
              "    .dataframe thead th {\n",
              "        text-align: right;\n",
              "    }\n",
              "</style>\n",
              "<table border=\"1\" class=\"dataframe\">\n",
              "  <thead>\n",
              "    <tr style=\"text-align: right;\">\n",
              "      <th></th>\n",
              "      <th>user_id</th>\n",
              "      <th>anime_id</th>\n",
              "      <th>rating</th>\n",
              "    </tr>\n",
              "  </thead>\n",
              "  <tbody>\n",
              "    <tr>\n",
              "      <th>0</th>\n",
              "      <td>1</td>\n",
              "      <td>20</td>\n",
              "      <td>-1</td>\n",
              "    </tr>\n",
              "    <tr>\n",
              "      <th>1</th>\n",
              "      <td>1</td>\n",
              "      <td>24</td>\n",
              "      <td>-1</td>\n",
              "    </tr>\n",
              "    <tr>\n",
              "      <th>2</th>\n",
              "      <td>1</td>\n",
              "      <td>79</td>\n",
              "      <td>-1</td>\n",
              "    </tr>\n",
              "    <tr>\n",
              "      <th>3</th>\n",
              "      <td>1</td>\n",
              "      <td>226</td>\n",
              "      <td>-1</td>\n",
              "    </tr>\n",
              "    <tr>\n",
              "      <th>4</th>\n",
              "      <td>1</td>\n",
              "      <td>241</td>\n",
              "      <td>-1</td>\n",
              "    </tr>\n",
              "    <tr>\n",
              "      <th>...</th>\n",
              "      <td>...</td>\n",
              "      <td>...</td>\n",
              "      <td>...</td>\n",
              "    </tr>\n",
              "    <tr>\n",
              "      <th>7813732</th>\n",
              "      <td>73515</td>\n",
              "      <td>16512</td>\n",
              "      <td>7</td>\n",
              "    </tr>\n",
              "    <tr>\n",
              "      <th>7813733</th>\n",
              "      <td>73515</td>\n",
              "      <td>17187</td>\n",
              "      <td>9</td>\n",
              "    </tr>\n",
              "    <tr>\n",
              "      <th>7813734</th>\n",
              "      <td>73515</td>\n",
              "      <td>22145</td>\n",
              "      <td>10</td>\n",
              "    </tr>\n",
              "    <tr>\n",
              "      <th>7813735</th>\n",
              "      <td>73516</td>\n",
              "      <td>790</td>\n",
              "      <td>9</td>\n",
              "    </tr>\n",
              "    <tr>\n",
              "      <th>7813736</th>\n",
              "      <td>73516</td>\n",
              "      <td>8074</td>\n",
              "      <td>9</td>\n",
              "    </tr>\n",
              "  </tbody>\n",
              "</table>\n",
              "<p>7813737 rows × 3 columns</p>\n",
              "</div>\n",
              "      <button class=\"colab-df-convert\" onclick=\"convertToInteractive('df-b9a3a9b8-3d03-4cfd-8b8b-26d338cc575e')\"\n",
              "              title=\"Convert this dataframe to an interactive table.\"\n",
              "              style=\"display:none;\">\n",
              "        \n",
              "  <svg xmlns=\"http://www.w3.org/2000/svg\" height=\"24px\"viewBox=\"0 0 24 24\"\n",
              "       width=\"24px\">\n",
              "    <path d=\"M0 0h24v24H0V0z\" fill=\"none\"/>\n",
              "    <path d=\"M18.56 5.44l.94 2.06.94-2.06 2.06-.94-2.06-.94-.94-2.06-.94 2.06-2.06.94zm-11 1L8.5 8.5l.94-2.06 2.06-.94-2.06-.94L8.5 2.5l-.94 2.06-2.06.94zm10 10l.94 2.06.94-2.06 2.06-.94-2.06-.94-.94-2.06-.94 2.06-2.06.94z\"/><path d=\"M17.41 7.96l-1.37-1.37c-.4-.4-.92-.59-1.43-.59-.52 0-1.04.2-1.43.59L10.3 9.45l-7.72 7.72c-.78.78-.78 2.05 0 2.83L4 21.41c.39.39.9.59 1.41.59.51 0 1.02-.2 1.41-.59l7.78-7.78 2.81-2.81c.8-.78.8-2.07 0-2.86zM5.41 20L4 18.59l7.72-7.72 1.47 1.35L5.41 20z\"/>\n",
              "  </svg>\n",
              "      </button>\n",
              "      \n",
              "  <style>\n",
              "    .colab-df-container {\n",
              "      display:flex;\n",
              "      flex-wrap:wrap;\n",
              "      gap: 12px;\n",
              "    }\n",
              "\n",
              "    .colab-df-convert {\n",
              "      background-color: #E8F0FE;\n",
              "      border: none;\n",
              "      border-radius: 50%;\n",
              "      cursor: pointer;\n",
              "      display: none;\n",
              "      fill: #1967D2;\n",
              "      height: 32px;\n",
              "      padding: 0 0 0 0;\n",
              "      width: 32px;\n",
              "    }\n",
              "\n",
              "    .colab-df-convert:hover {\n",
              "      background-color: #E2EBFA;\n",
              "      box-shadow: 0px 1px 2px rgba(60, 64, 67, 0.3), 0px 1px 3px 1px rgba(60, 64, 67, 0.15);\n",
              "      fill: #174EA6;\n",
              "    }\n",
              "\n",
              "    [theme=dark] .colab-df-convert {\n",
              "      background-color: #3B4455;\n",
              "      fill: #D2E3FC;\n",
              "    }\n",
              "\n",
              "    [theme=dark] .colab-df-convert:hover {\n",
              "      background-color: #434B5C;\n",
              "      box-shadow: 0px 1px 3px 1px rgba(0, 0, 0, 0.15);\n",
              "      filter: drop-shadow(0px 1px 2px rgba(0, 0, 0, 0.3));\n",
              "      fill: #FFFFFF;\n",
              "    }\n",
              "  </style>\n",
              "\n",
              "      <script>\n",
              "        const buttonEl =\n",
              "          document.querySelector('#df-b9a3a9b8-3d03-4cfd-8b8b-26d338cc575e button.colab-df-convert');\n",
              "        buttonEl.style.display =\n",
              "          google.colab.kernel.accessAllowed ? 'block' : 'none';\n",
              "\n",
              "        async function convertToInteractive(key) {\n",
              "          const element = document.querySelector('#df-b9a3a9b8-3d03-4cfd-8b8b-26d338cc575e');\n",
              "          const dataTable =\n",
              "            await google.colab.kernel.invokeFunction('convertToInteractive',\n",
              "                                                     [key], {});\n",
              "          if (!dataTable) return;\n",
              "\n",
              "          const docLinkHtml = 'Like what you see? Visit the ' +\n",
              "            '<a target=\"_blank\" href=https://colab.research.google.com/notebooks/data_table.ipynb>data table notebook</a>'\n",
              "            + ' to learn more about interactive tables.';\n",
              "          element.innerHTML = '';\n",
              "          dataTable['output_type'] = 'display_data';\n",
              "          await google.colab.output.renderOutput(dataTable, element);\n",
              "          const docLink = document.createElement('div');\n",
              "          docLink.innerHTML = docLinkHtml;\n",
              "          element.appendChild(docLink);\n",
              "        }\n",
              "      </script>\n",
              "    </div>\n",
              "  </div>\n",
              "  "
            ],
            "text/plain": [
              "         user_id  anime_id  rating\n",
              "0              1        20      -1\n",
              "1              1        24      -1\n",
              "2              1        79      -1\n",
              "3              1       226      -1\n",
              "4              1       241      -1\n",
              "...          ...       ...     ...\n",
              "7813732    73515     16512       7\n",
              "7813733    73515     17187       9\n",
              "7813734    73515     22145      10\n",
              "7813735    73516       790       9\n",
              "7813736    73516      8074       9\n",
              "\n",
              "[7813737 rows x 3 columns]"
            ]
          },
          "metadata": {},
          "execution_count": 5
        }
      ]
    },
    {
      "cell_type": "code",
      "metadata": {
        "colab": {
          "base_uri": "https://localhost:8080/",
          "height": 424
        },
        "id": "fkSr2M2c7GYf",
        "outputId": "c90e84fa-14ef-4f75-ae4a-04b2671b2bc4"
      },
      "source": [
        "animes = pd.read_csv(path/'anime.csv')\n",
        "animes"
      ],
      "execution_count": null,
      "outputs": [
        {
          "output_type": "execute_result",
          "data": {
            "text/html": [
              "\n",
              "  <div id=\"df-b5823285-db17-4408-a005-94f9fdc160cc\">\n",
              "    <div class=\"colab-df-container\">\n",
              "      <div>\n",
              "<style scoped>\n",
              "    .dataframe tbody tr th:only-of-type {\n",
              "        vertical-align: middle;\n",
              "    }\n",
              "\n",
              "    .dataframe tbody tr th {\n",
              "        vertical-align: top;\n",
              "    }\n",
              "\n",
              "    .dataframe thead th {\n",
              "        text-align: right;\n",
              "    }\n",
              "</style>\n",
              "<table border=\"1\" class=\"dataframe\">\n",
              "  <thead>\n",
              "    <tr style=\"text-align: right;\">\n",
              "      <th></th>\n",
              "      <th>anime_id</th>\n",
              "      <th>name</th>\n",
              "      <th>genre</th>\n",
              "      <th>type</th>\n",
              "      <th>episodes</th>\n",
              "      <th>rating</th>\n",
              "      <th>members</th>\n",
              "    </tr>\n",
              "  </thead>\n",
              "  <tbody>\n",
              "    <tr>\n",
              "      <th>0</th>\n",
              "      <td>32281</td>\n",
              "      <td>Kimi no Na wa.</td>\n",
              "      <td>Drama, Romance, School, Supernatural</td>\n",
              "      <td>Movie</td>\n",
              "      <td>1</td>\n",
              "      <td>9.37</td>\n",
              "      <td>200630</td>\n",
              "    </tr>\n",
              "    <tr>\n",
              "      <th>1</th>\n",
              "      <td>5114</td>\n",
              "      <td>Fullmetal Alchemist: Brotherhood</td>\n",
              "      <td>Action, Adventure, Drama, Fantasy, Magic, Military, Shounen</td>\n",
              "      <td>TV</td>\n",
              "      <td>64</td>\n",
              "      <td>9.26</td>\n",
              "      <td>793665</td>\n",
              "    </tr>\n",
              "    <tr>\n",
              "      <th>2</th>\n",
              "      <td>28977</td>\n",
              "      <td>Gintama°</td>\n",
              "      <td>Action, Comedy, Historical, Parody, Samurai, Sci-Fi, Shounen</td>\n",
              "      <td>TV</td>\n",
              "      <td>51</td>\n",
              "      <td>9.25</td>\n",
              "      <td>114262</td>\n",
              "    </tr>\n",
              "    <tr>\n",
              "      <th>3</th>\n",
              "      <td>9253</td>\n",
              "      <td>Steins;Gate</td>\n",
              "      <td>Sci-Fi, Thriller</td>\n",
              "      <td>TV</td>\n",
              "      <td>24</td>\n",
              "      <td>9.17</td>\n",
              "      <td>673572</td>\n",
              "    </tr>\n",
              "    <tr>\n",
              "      <th>4</th>\n",
              "      <td>9969</td>\n",
              "      <td>Gintama&amp;#039;</td>\n",
              "      <td>Action, Comedy, Historical, Parody, Samurai, Sci-Fi, Shounen</td>\n",
              "      <td>TV</td>\n",
              "      <td>51</td>\n",
              "      <td>9.16</td>\n",
              "      <td>151266</td>\n",
              "    </tr>\n",
              "    <tr>\n",
              "      <th>...</th>\n",
              "      <td>...</td>\n",
              "      <td>...</td>\n",
              "      <td>...</td>\n",
              "      <td>...</td>\n",
              "      <td>...</td>\n",
              "      <td>...</td>\n",
              "      <td>...</td>\n",
              "    </tr>\n",
              "    <tr>\n",
              "      <th>12289</th>\n",
              "      <td>9316</td>\n",
              "      <td>Toushindai My Lover: Minami tai Mecha-Minami</td>\n",
              "      <td>Hentai</td>\n",
              "      <td>OVA</td>\n",
              "      <td>1</td>\n",
              "      <td>4.15</td>\n",
              "      <td>211</td>\n",
              "    </tr>\n",
              "    <tr>\n",
              "      <th>12290</th>\n",
              "      <td>5543</td>\n",
              "      <td>Under World</td>\n",
              "      <td>Hentai</td>\n",
              "      <td>OVA</td>\n",
              "      <td>1</td>\n",
              "      <td>4.28</td>\n",
              "      <td>183</td>\n",
              "    </tr>\n",
              "    <tr>\n",
              "      <th>12291</th>\n",
              "      <td>5621</td>\n",
              "      <td>Violence Gekiga David no Hoshi</td>\n",
              "      <td>Hentai</td>\n",
              "      <td>OVA</td>\n",
              "      <td>4</td>\n",
              "      <td>4.88</td>\n",
              "      <td>219</td>\n",
              "    </tr>\n",
              "    <tr>\n",
              "      <th>12292</th>\n",
              "      <td>6133</td>\n",
              "      <td>Violence Gekiga Shin David no Hoshi: Inma Densetsu</td>\n",
              "      <td>Hentai</td>\n",
              "      <td>OVA</td>\n",
              "      <td>1</td>\n",
              "      <td>4.98</td>\n",
              "      <td>175</td>\n",
              "    </tr>\n",
              "    <tr>\n",
              "      <th>12293</th>\n",
              "      <td>26081</td>\n",
              "      <td>Yasuji no Pornorama: Yacchimae!!</td>\n",
              "      <td>Hentai</td>\n",
              "      <td>Movie</td>\n",
              "      <td>1</td>\n",
              "      <td>5.46</td>\n",
              "      <td>142</td>\n",
              "    </tr>\n",
              "  </tbody>\n",
              "</table>\n",
              "<p>12294 rows × 7 columns</p>\n",
              "</div>\n",
              "      <button class=\"colab-df-convert\" onclick=\"convertToInteractive('df-b5823285-db17-4408-a005-94f9fdc160cc')\"\n",
              "              title=\"Convert this dataframe to an interactive table.\"\n",
              "              style=\"display:none;\">\n",
              "        \n",
              "  <svg xmlns=\"http://www.w3.org/2000/svg\" height=\"24px\"viewBox=\"0 0 24 24\"\n",
              "       width=\"24px\">\n",
              "    <path d=\"M0 0h24v24H0V0z\" fill=\"none\"/>\n",
              "    <path d=\"M18.56 5.44l.94 2.06.94-2.06 2.06-.94-2.06-.94-.94-2.06-.94 2.06-2.06.94zm-11 1L8.5 8.5l.94-2.06 2.06-.94-2.06-.94L8.5 2.5l-.94 2.06-2.06.94zm10 10l.94 2.06.94-2.06 2.06-.94-2.06-.94-.94-2.06-.94 2.06-2.06.94z\"/><path d=\"M17.41 7.96l-1.37-1.37c-.4-.4-.92-.59-1.43-.59-.52 0-1.04.2-1.43.59L10.3 9.45l-7.72 7.72c-.78.78-.78 2.05 0 2.83L4 21.41c.39.39.9.59 1.41.59.51 0 1.02-.2 1.41-.59l7.78-7.78 2.81-2.81c.8-.78.8-2.07 0-2.86zM5.41 20L4 18.59l7.72-7.72 1.47 1.35L5.41 20z\"/>\n",
              "  </svg>\n",
              "      </button>\n",
              "      \n",
              "  <style>\n",
              "    .colab-df-container {\n",
              "      display:flex;\n",
              "      flex-wrap:wrap;\n",
              "      gap: 12px;\n",
              "    }\n",
              "\n",
              "    .colab-df-convert {\n",
              "      background-color: #E8F0FE;\n",
              "      border: none;\n",
              "      border-radius: 50%;\n",
              "      cursor: pointer;\n",
              "      display: none;\n",
              "      fill: #1967D2;\n",
              "      height: 32px;\n",
              "      padding: 0 0 0 0;\n",
              "      width: 32px;\n",
              "    }\n",
              "\n",
              "    .colab-df-convert:hover {\n",
              "      background-color: #E2EBFA;\n",
              "      box-shadow: 0px 1px 2px rgba(60, 64, 67, 0.3), 0px 1px 3px 1px rgba(60, 64, 67, 0.15);\n",
              "      fill: #174EA6;\n",
              "    }\n",
              "\n",
              "    [theme=dark] .colab-df-convert {\n",
              "      background-color: #3B4455;\n",
              "      fill: #D2E3FC;\n",
              "    }\n",
              "\n",
              "    [theme=dark] .colab-df-convert:hover {\n",
              "      background-color: #434B5C;\n",
              "      box-shadow: 0px 1px 3px 1px rgba(0, 0, 0, 0.15);\n",
              "      filter: drop-shadow(0px 1px 2px rgba(0, 0, 0, 0.3));\n",
              "      fill: #FFFFFF;\n",
              "    }\n",
              "  </style>\n",
              "\n",
              "      <script>\n",
              "        const buttonEl =\n",
              "          document.querySelector('#df-b5823285-db17-4408-a005-94f9fdc160cc button.colab-df-convert');\n",
              "        buttonEl.style.display =\n",
              "          google.colab.kernel.accessAllowed ? 'block' : 'none';\n",
              "\n",
              "        async function convertToInteractive(key) {\n",
              "          const element = document.querySelector('#df-b5823285-db17-4408-a005-94f9fdc160cc');\n",
              "          const dataTable =\n",
              "            await google.colab.kernel.invokeFunction('convertToInteractive',\n",
              "                                                     [key], {});\n",
              "          if (!dataTable) return;\n",
              "\n",
              "          const docLinkHtml = 'Like what you see? Visit the ' +\n",
              "            '<a target=\"_blank\" href=https://colab.research.google.com/notebooks/data_table.ipynb>data table notebook</a>'\n",
              "            + ' to learn more about interactive tables.';\n",
              "          element.innerHTML = '';\n",
              "          dataTable['output_type'] = 'display_data';\n",
              "          await google.colab.output.renderOutput(dataTable, element);\n",
              "          const docLink = document.createElement('div');\n",
              "          docLink.innerHTML = docLinkHtml;\n",
              "          element.appendChild(docLink);\n",
              "        }\n",
              "      </script>\n",
              "    </div>\n",
              "  </div>\n",
              "  "
            ],
            "text/plain": [
              "       anime_id                                                name  \\\n",
              "0         32281                                      Kimi no Na wa.   \n",
              "1          5114                    Fullmetal Alchemist: Brotherhood   \n",
              "2         28977                                            Gintama°   \n",
              "3          9253                                         Steins;Gate   \n",
              "4          9969                                       Gintama&#039;   \n",
              "...         ...                                                 ...   \n",
              "12289      9316        Toushindai My Lover: Minami tai Mecha-Minami   \n",
              "12290      5543                                         Under World   \n",
              "12291      5621                      Violence Gekiga David no Hoshi   \n",
              "12292      6133  Violence Gekiga Shin David no Hoshi: Inma Densetsu   \n",
              "12293     26081                    Yasuji no Pornorama: Yacchimae!!   \n",
              "\n",
              "                                                              genre   type  \\\n",
              "0                              Drama, Romance, School, Supernatural  Movie   \n",
              "1       Action, Adventure, Drama, Fantasy, Magic, Military, Shounen     TV   \n",
              "2      Action, Comedy, Historical, Parody, Samurai, Sci-Fi, Shounen     TV   \n",
              "3                                                  Sci-Fi, Thriller     TV   \n",
              "4      Action, Comedy, Historical, Parody, Samurai, Sci-Fi, Shounen     TV   \n",
              "...                                                             ...    ...   \n",
              "12289                                                        Hentai    OVA   \n",
              "12290                                                        Hentai    OVA   \n",
              "12291                                                        Hentai    OVA   \n",
              "12292                                                        Hentai    OVA   \n",
              "12293                                                        Hentai  Movie   \n",
              "\n",
              "      episodes  rating  members  \n",
              "0            1    9.37   200630  \n",
              "1           64    9.26   793665  \n",
              "2           51    9.25   114262  \n",
              "3           24    9.17   673572  \n",
              "4           51    9.16   151266  \n",
              "...        ...     ...      ...  \n",
              "12289        1    4.15      211  \n",
              "12290        1    4.28      183  \n",
              "12291        4    4.88      219  \n",
              "12292        1    4.98      175  \n",
              "12293        1    5.46      142  \n",
              "\n",
              "[12294 rows x 7 columns]"
            ]
          },
          "metadata": {},
          "execution_count": 6
        }
      ]
    },
    {
      "cell_type": "markdown",
      "metadata": {
        "id": "rig9AS93C3IG"
      },
      "source": [
        "Now we simply need to correctly merge the tables, so that we can add the name of the anime to the ratings table."
      ]
    },
    {
      "cell_type": "code",
      "metadata": {
        "colab": {
          "base_uri": "https://localhost:8080/",
          "height": 206
        },
        "id": "R96WqawpCEdS",
        "outputId": "befcde68-88ca-4009-8933-d77eab7bc0a2"
      },
      "source": [
        "ratings = ratings.merge(animes[[\"anime_id\", \"name\"]])\n",
        "ratings.head()"
      ],
      "execution_count": null,
      "outputs": [
        {
          "output_type": "execute_result",
          "data": {
            "text/html": [
              "\n",
              "  <div id=\"df-d59f48e2-de41-40bb-bec8-5d4e326bd152\">\n",
              "    <div class=\"colab-df-container\">\n",
              "      <div>\n",
              "<style scoped>\n",
              "    .dataframe tbody tr th:only-of-type {\n",
              "        vertical-align: middle;\n",
              "    }\n",
              "\n",
              "    .dataframe tbody tr th {\n",
              "        vertical-align: top;\n",
              "    }\n",
              "\n",
              "    .dataframe thead th {\n",
              "        text-align: right;\n",
              "    }\n",
              "</style>\n",
              "<table border=\"1\" class=\"dataframe\">\n",
              "  <thead>\n",
              "    <tr style=\"text-align: right;\">\n",
              "      <th></th>\n",
              "      <th>user_id</th>\n",
              "      <th>anime_id</th>\n",
              "      <th>rating</th>\n",
              "      <th>name</th>\n",
              "    </tr>\n",
              "  </thead>\n",
              "  <tbody>\n",
              "    <tr>\n",
              "      <th>0</th>\n",
              "      <td>1</td>\n",
              "      <td>20</td>\n",
              "      <td>-1</td>\n",
              "      <td>Naruto</td>\n",
              "    </tr>\n",
              "    <tr>\n",
              "      <th>1</th>\n",
              "      <td>3</td>\n",
              "      <td>20</td>\n",
              "      <td>8</td>\n",
              "      <td>Naruto</td>\n",
              "    </tr>\n",
              "    <tr>\n",
              "      <th>2</th>\n",
              "      <td>5</td>\n",
              "      <td>20</td>\n",
              "      <td>6</td>\n",
              "      <td>Naruto</td>\n",
              "    </tr>\n",
              "    <tr>\n",
              "      <th>3</th>\n",
              "      <td>6</td>\n",
              "      <td>20</td>\n",
              "      <td>-1</td>\n",
              "      <td>Naruto</td>\n",
              "    </tr>\n",
              "    <tr>\n",
              "      <th>4</th>\n",
              "      <td>10</td>\n",
              "      <td>20</td>\n",
              "      <td>-1</td>\n",
              "      <td>Naruto</td>\n",
              "    </tr>\n",
              "  </tbody>\n",
              "</table>\n",
              "</div>\n",
              "      <button class=\"colab-df-convert\" onclick=\"convertToInteractive('df-d59f48e2-de41-40bb-bec8-5d4e326bd152')\"\n",
              "              title=\"Convert this dataframe to an interactive table.\"\n",
              "              style=\"display:none;\">\n",
              "        \n",
              "  <svg xmlns=\"http://www.w3.org/2000/svg\" height=\"24px\"viewBox=\"0 0 24 24\"\n",
              "       width=\"24px\">\n",
              "    <path d=\"M0 0h24v24H0V0z\" fill=\"none\"/>\n",
              "    <path d=\"M18.56 5.44l.94 2.06.94-2.06 2.06-.94-2.06-.94-.94-2.06-.94 2.06-2.06.94zm-11 1L8.5 8.5l.94-2.06 2.06-.94-2.06-.94L8.5 2.5l-.94 2.06-2.06.94zm10 10l.94 2.06.94-2.06 2.06-.94-2.06-.94-.94-2.06-.94 2.06-2.06.94z\"/><path d=\"M17.41 7.96l-1.37-1.37c-.4-.4-.92-.59-1.43-.59-.52 0-1.04.2-1.43.59L10.3 9.45l-7.72 7.72c-.78.78-.78 2.05 0 2.83L4 21.41c.39.39.9.59 1.41.59.51 0 1.02-.2 1.41-.59l7.78-7.78 2.81-2.81c.8-.78.8-2.07 0-2.86zM5.41 20L4 18.59l7.72-7.72 1.47 1.35L5.41 20z\"/>\n",
              "  </svg>\n",
              "      </button>\n",
              "      \n",
              "  <style>\n",
              "    .colab-df-container {\n",
              "      display:flex;\n",
              "      flex-wrap:wrap;\n",
              "      gap: 12px;\n",
              "    }\n",
              "\n",
              "    .colab-df-convert {\n",
              "      background-color: #E8F0FE;\n",
              "      border: none;\n",
              "      border-radius: 50%;\n",
              "      cursor: pointer;\n",
              "      display: none;\n",
              "      fill: #1967D2;\n",
              "      height: 32px;\n",
              "      padding: 0 0 0 0;\n",
              "      width: 32px;\n",
              "    }\n",
              "\n",
              "    .colab-df-convert:hover {\n",
              "      background-color: #E2EBFA;\n",
              "      box-shadow: 0px 1px 2px rgba(60, 64, 67, 0.3), 0px 1px 3px 1px rgba(60, 64, 67, 0.15);\n",
              "      fill: #174EA6;\n",
              "    }\n",
              "\n",
              "    [theme=dark] .colab-df-convert {\n",
              "      background-color: #3B4455;\n",
              "      fill: #D2E3FC;\n",
              "    }\n",
              "\n",
              "    [theme=dark] .colab-df-convert:hover {\n",
              "      background-color: #434B5C;\n",
              "      box-shadow: 0px 1px 3px 1px rgba(0, 0, 0, 0.15);\n",
              "      filter: drop-shadow(0px 1px 2px rgba(0, 0, 0, 0.3));\n",
              "      fill: #FFFFFF;\n",
              "    }\n",
              "  </style>\n",
              "\n",
              "      <script>\n",
              "        const buttonEl =\n",
              "          document.querySelector('#df-d59f48e2-de41-40bb-bec8-5d4e326bd152 button.colab-df-convert');\n",
              "        buttonEl.style.display =\n",
              "          google.colab.kernel.accessAllowed ? 'block' : 'none';\n",
              "\n",
              "        async function convertToInteractive(key) {\n",
              "          const element = document.querySelector('#df-d59f48e2-de41-40bb-bec8-5d4e326bd152');\n",
              "          const dataTable =\n",
              "            await google.colab.kernel.invokeFunction('convertToInteractive',\n",
              "                                                     [key], {});\n",
              "          if (!dataTable) return;\n",
              "\n",
              "          const docLinkHtml = 'Like what you see? Visit the ' +\n",
              "            '<a target=\"_blank\" href=https://colab.research.google.com/notebooks/data_table.ipynb>data table notebook</a>'\n",
              "            + ' to learn more about interactive tables.';\n",
              "          element.innerHTML = '';\n",
              "          dataTable['output_type'] = 'display_data';\n",
              "          await google.colab.output.renderOutput(dataTable, element);\n",
              "          const docLink = document.createElement('div');\n",
              "          docLink.innerHTML = docLinkHtml;\n",
              "          element.appendChild(docLink);\n",
              "        }\n",
              "      </script>\n",
              "    </div>\n",
              "  </div>\n",
              "  "
            ],
            "text/plain": [
              "   user_id  anime_id  rating    name\n",
              "0        1        20      -1  Naruto\n",
              "1        3        20       8  Naruto\n",
              "2        5        20       6  Naruto\n",
              "3        6        20      -1  Naruto\n",
              "4       10        20      -1  Naruto"
            ]
          },
          "metadata": {},
          "execution_count": 7
        }
      ]
    },
    {
      "cell_type": "code",
      "source": [
        "#check the shape of the dataframe\n",
        "ratings.shape"
      ],
      "metadata": {
        "colab": {
          "base_uri": "https://localhost:8080/"
        },
        "id": "WQM1F-2NxDBU",
        "outputId": "bd0c14a9-4d66-482b-9fb3-46b5adfade23"
      },
      "execution_count": null,
      "outputs": [
        {
          "output_type": "execute_result",
          "data": {
            "text/plain": [
              "(7813727, 4)"
            ]
          },
          "metadata": {},
          "execution_count": 8
        }
      ]
    },
    {
      "cell_type": "code",
      "source": [
        "df = ratings.iloc[90000:90015]\n",
        "df.head()"
      ],
      "metadata": {
        "colab": {
          "base_uri": "https://localhost:8080/",
          "height": 206
        },
        "id": "0piiWLsKRXzG",
        "outputId": "a1ca7ea5-f980-48e7-cf2f-395813b637b2"
      },
      "execution_count": null,
      "outputs": [
        {
          "output_type": "execute_result",
          "data": {
            "text/html": [
              "\n",
              "  <div id=\"df-2e3020f4-cbb6-4fc6-b18a-6275088176a2\">\n",
              "    <div class=\"colab-df-container\">\n",
              "      <div>\n",
              "<style scoped>\n",
              "    .dataframe tbody tr th:only-of-type {\n",
              "        vertical-align: middle;\n",
              "    }\n",
              "\n",
              "    .dataframe tbody tr th {\n",
              "        vertical-align: top;\n",
              "    }\n",
              "\n",
              "    .dataframe thead th {\n",
              "        text-align: right;\n",
              "    }\n",
              "</style>\n",
              "<table border=\"1\" class=\"dataframe\">\n",
              "  <thead>\n",
              "    <tr style=\"text-align: right;\">\n",
              "      <th></th>\n",
              "      <th>user_id</th>\n",
              "      <th>anime_id</th>\n",
              "      <th>rating</th>\n",
              "      <th>name</th>\n",
              "    </tr>\n",
              "  </thead>\n",
              "  <tbody>\n",
              "    <tr>\n",
              "      <th>90000</th>\n",
              "      <td>30228</td>\n",
              "      <td>356</td>\n",
              "      <td>9</td>\n",
              "      <td>Fate/stay night</td>\n",
              "    </tr>\n",
              "    <tr>\n",
              "      <th>90001</th>\n",
              "      <td>30235</td>\n",
              "      <td>356</td>\n",
              "      <td>8</td>\n",
              "      <td>Fate/stay night</td>\n",
              "    </tr>\n",
              "    <tr>\n",
              "      <th>90002</th>\n",
              "      <td>30236</td>\n",
              "      <td>356</td>\n",
              "      <td>9</td>\n",
              "      <td>Fate/stay night</td>\n",
              "    </tr>\n",
              "    <tr>\n",
              "      <th>90003</th>\n",
              "      <td>30258</td>\n",
              "      <td>356</td>\n",
              "      <td>7</td>\n",
              "      <td>Fate/stay night</td>\n",
              "    </tr>\n",
              "    <tr>\n",
              "      <th>90004</th>\n",
              "      <td>30267</td>\n",
              "      <td>356</td>\n",
              "      <td>8</td>\n",
              "      <td>Fate/stay night</td>\n",
              "    </tr>\n",
              "  </tbody>\n",
              "</table>\n",
              "</div>\n",
              "      <button class=\"colab-df-convert\" onclick=\"convertToInteractive('df-2e3020f4-cbb6-4fc6-b18a-6275088176a2')\"\n",
              "              title=\"Convert this dataframe to an interactive table.\"\n",
              "              style=\"display:none;\">\n",
              "        \n",
              "  <svg xmlns=\"http://www.w3.org/2000/svg\" height=\"24px\"viewBox=\"0 0 24 24\"\n",
              "       width=\"24px\">\n",
              "    <path d=\"M0 0h24v24H0V0z\" fill=\"none\"/>\n",
              "    <path d=\"M18.56 5.44l.94 2.06.94-2.06 2.06-.94-2.06-.94-.94-2.06-.94 2.06-2.06.94zm-11 1L8.5 8.5l.94-2.06 2.06-.94-2.06-.94L8.5 2.5l-.94 2.06-2.06.94zm10 10l.94 2.06.94-2.06 2.06-.94-2.06-.94-.94-2.06-.94 2.06-2.06.94z\"/><path d=\"M17.41 7.96l-1.37-1.37c-.4-.4-.92-.59-1.43-.59-.52 0-1.04.2-1.43.59L10.3 9.45l-7.72 7.72c-.78.78-.78 2.05 0 2.83L4 21.41c.39.39.9.59 1.41.59.51 0 1.02-.2 1.41-.59l7.78-7.78 2.81-2.81c.8-.78.8-2.07 0-2.86zM5.41 20L4 18.59l7.72-7.72 1.47 1.35L5.41 20z\"/>\n",
              "  </svg>\n",
              "      </button>\n",
              "      \n",
              "  <style>\n",
              "    .colab-df-container {\n",
              "      display:flex;\n",
              "      flex-wrap:wrap;\n",
              "      gap: 12px;\n",
              "    }\n",
              "\n",
              "    .colab-df-convert {\n",
              "      background-color: #E8F0FE;\n",
              "      border: none;\n",
              "      border-radius: 50%;\n",
              "      cursor: pointer;\n",
              "      display: none;\n",
              "      fill: #1967D2;\n",
              "      height: 32px;\n",
              "      padding: 0 0 0 0;\n",
              "      width: 32px;\n",
              "    }\n",
              "\n",
              "    .colab-df-convert:hover {\n",
              "      background-color: #E2EBFA;\n",
              "      box-shadow: 0px 1px 2px rgba(60, 64, 67, 0.3), 0px 1px 3px 1px rgba(60, 64, 67, 0.15);\n",
              "      fill: #174EA6;\n",
              "    }\n",
              "\n",
              "    [theme=dark] .colab-df-convert {\n",
              "      background-color: #3B4455;\n",
              "      fill: #D2E3FC;\n",
              "    }\n",
              "\n",
              "    [theme=dark] .colab-df-convert:hover {\n",
              "      background-color: #434B5C;\n",
              "      box-shadow: 0px 1px 3px 1px rgba(0, 0, 0, 0.15);\n",
              "      filter: drop-shadow(0px 1px 2px rgba(0, 0, 0, 0.3));\n",
              "      fill: #FFFFFF;\n",
              "    }\n",
              "  </style>\n",
              "\n",
              "      <script>\n",
              "        const buttonEl =\n",
              "          document.querySelector('#df-2e3020f4-cbb6-4fc6-b18a-6275088176a2 button.colab-df-convert');\n",
              "        buttonEl.style.display =\n",
              "          google.colab.kernel.accessAllowed ? 'block' : 'none';\n",
              "\n",
              "        async function convertToInteractive(key) {\n",
              "          const element = document.querySelector('#df-2e3020f4-cbb6-4fc6-b18a-6275088176a2');\n",
              "          const dataTable =\n",
              "            await google.colab.kernel.invokeFunction('convertToInteractive',\n",
              "                                                     [key], {});\n",
              "          if (!dataTable) return;\n",
              "\n",
              "          const docLinkHtml = 'Like what you see? Visit the ' +\n",
              "            '<a target=\"_blank\" href=https://colab.research.google.com/notebooks/data_table.ipynb>data table notebook</a>'\n",
              "            + ' to learn more about interactive tables.';\n",
              "          element.innerHTML = '';\n",
              "          dataTable['output_type'] = 'display_data';\n",
              "          await google.colab.output.renderOutput(dataTable, element);\n",
              "          const docLink = document.createElement('div');\n",
              "          docLink.innerHTML = docLinkHtml;\n",
              "          element.appendChild(docLink);\n",
              "        }\n",
              "      </script>\n",
              "    </div>\n",
              "  </div>\n",
              "  "
            ],
            "text/plain": [
              "       user_id  anime_id  rating             name\n",
              "90000    30228       356       9  Fate/stay night\n",
              "90001    30235       356       8  Fate/stay night\n",
              "90002    30236       356       9  Fate/stay night\n",
              "90003    30258       356       7  Fate/stay night\n",
              "90004    30267       356       8  Fate/stay night"
            ]
          },
          "metadata": {},
          "execution_count": 34
        }
      ]
    },
    {
      "cell_type": "code",
      "source": [
        "#NOTE there is too much data to create the pivot table in this data set, it will run out of memory and crash so you would need to slice the data\n",
        "#NOTE there are so many people who have rate the movies that you don't really get any meaningful data from this pivot table, one or two movies at most\n",
        "pivot = pd.pivot_table(df, index='anime_id', columns='user_id', values='rating')\n",
        "pivot"
      ],
      "metadata": {
        "colab": {
          "base_uri": "https://localhost:8080/",
          "height": 112
        },
        "id": "BSabch31Ov6_",
        "outputId": "3867a0a5-bdb1-4934-bd76-117ba923c968"
      },
      "execution_count": null,
      "outputs": [
        {
          "output_type": "execute_result",
          "data": {
            "text/html": [
              "\n",
              "  <div id=\"df-bba08ede-2139-47d9-8411-d1cb136fe5e2\">\n",
              "    <div class=\"colab-df-container\">\n",
              "      <div>\n",
              "<style scoped>\n",
              "    .dataframe tbody tr th:only-of-type {\n",
              "        vertical-align: middle;\n",
              "    }\n",
              "\n",
              "    .dataframe tbody tr th {\n",
              "        vertical-align: top;\n",
              "    }\n",
              "\n",
              "    .dataframe thead th {\n",
              "        text-align: right;\n",
              "    }\n",
              "</style>\n",
              "<table border=\"1\" class=\"dataframe\">\n",
              "  <thead>\n",
              "    <tr style=\"text-align: right;\">\n",
              "      <th>user_id</th>\n",
              "      <th>30228</th>\n",
              "      <th>30235</th>\n",
              "      <th>30236</th>\n",
              "      <th>30258</th>\n",
              "      <th>30267</th>\n",
              "      <th>30269</th>\n",
              "      <th>30274</th>\n",
              "      <th>30276</th>\n",
              "      <th>30277</th>\n",
              "      <th>30280</th>\n",
              "      <th>30284</th>\n",
              "      <th>30289</th>\n",
              "      <th>30295</th>\n",
              "      <th>30300</th>\n",
              "      <th>30303</th>\n",
              "    </tr>\n",
              "    <tr>\n",
              "      <th>anime_id</th>\n",
              "      <th></th>\n",
              "      <th></th>\n",
              "      <th></th>\n",
              "      <th></th>\n",
              "      <th></th>\n",
              "      <th></th>\n",
              "      <th></th>\n",
              "      <th></th>\n",
              "      <th></th>\n",
              "      <th></th>\n",
              "      <th></th>\n",
              "      <th></th>\n",
              "      <th></th>\n",
              "      <th></th>\n",
              "      <th></th>\n",
              "    </tr>\n",
              "  </thead>\n",
              "  <tbody>\n",
              "    <tr>\n",
              "      <th>356</th>\n",
              "      <td>9</td>\n",
              "      <td>8</td>\n",
              "      <td>9</td>\n",
              "      <td>7</td>\n",
              "      <td>8</td>\n",
              "      <td>9</td>\n",
              "      <td>7</td>\n",
              "      <td>7</td>\n",
              "      <td>7</td>\n",
              "      <td>10</td>\n",
              "      <td>-1</td>\n",
              "      <td>10</td>\n",
              "      <td>-1</td>\n",
              "      <td>8</td>\n",
              "      <td>5</td>\n",
              "    </tr>\n",
              "  </tbody>\n",
              "</table>\n",
              "</div>\n",
              "      <button class=\"colab-df-convert\" onclick=\"convertToInteractive('df-bba08ede-2139-47d9-8411-d1cb136fe5e2')\"\n",
              "              title=\"Convert this dataframe to an interactive table.\"\n",
              "              style=\"display:none;\">\n",
              "        \n",
              "  <svg xmlns=\"http://www.w3.org/2000/svg\" height=\"24px\"viewBox=\"0 0 24 24\"\n",
              "       width=\"24px\">\n",
              "    <path d=\"M0 0h24v24H0V0z\" fill=\"none\"/>\n",
              "    <path d=\"M18.56 5.44l.94 2.06.94-2.06 2.06-.94-2.06-.94-.94-2.06-.94 2.06-2.06.94zm-11 1L8.5 8.5l.94-2.06 2.06-.94-2.06-.94L8.5 2.5l-.94 2.06-2.06.94zm10 10l.94 2.06.94-2.06 2.06-.94-2.06-.94-.94-2.06-.94 2.06-2.06.94z\"/><path d=\"M17.41 7.96l-1.37-1.37c-.4-.4-.92-.59-1.43-.59-.52 0-1.04.2-1.43.59L10.3 9.45l-7.72 7.72c-.78.78-.78 2.05 0 2.83L4 21.41c.39.39.9.59 1.41.59.51 0 1.02-.2 1.41-.59l7.78-7.78 2.81-2.81c.8-.78.8-2.07 0-2.86zM5.41 20L4 18.59l7.72-7.72 1.47 1.35L5.41 20z\"/>\n",
              "  </svg>\n",
              "      </button>\n",
              "      \n",
              "  <style>\n",
              "    .colab-df-container {\n",
              "      display:flex;\n",
              "      flex-wrap:wrap;\n",
              "      gap: 12px;\n",
              "    }\n",
              "\n",
              "    .colab-df-convert {\n",
              "      background-color: #E8F0FE;\n",
              "      border: none;\n",
              "      border-radius: 50%;\n",
              "      cursor: pointer;\n",
              "      display: none;\n",
              "      fill: #1967D2;\n",
              "      height: 32px;\n",
              "      padding: 0 0 0 0;\n",
              "      width: 32px;\n",
              "    }\n",
              "\n",
              "    .colab-df-convert:hover {\n",
              "      background-color: #E2EBFA;\n",
              "      box-shadow: 0px 1px 2px rgba(60, 64, 67, 0.3), 0px 1px 3px 1px rgba(60, 64, 67, 0.15);\n",
              "      fill: #174EA6;\n",
              "    }\n",
              "\n",
              "    [theme=dark] .colab-df-convert {\n",
              "      background-color: #3B4455;\n",
              "      fill: #D2E3FC;\n",
              "    }\n",
              "\n",
              "    [theme=dark] .colab-df-convert:hover {\n",
              "      background-color: #434B5C;\n",
              "      box-shadow: 0px 1px 3px 1px rgba(0, 0, 0, 0.15);\n",
              "      filter: drop-shadow(0px 1px 2px rgba(0, 0, 0, 0.3));\n",
              "      fill: #FFFFFF;\n",
              "    }\n",
              "  </style>\n",
              "\n",
              "      <script>\n",
              "        const buttonEl =\n",
              "          document.querySelector('#df-bba08ede-2139-47d9-8411-d1cb136fe5e2 button.colab-df-convert');\n",
              "        buttonEl.style.display =\n",
              "          google.colab.kernel.accessAllowed ? 'block' : 'none';\n",
              "\n",
              "        async function convertToInteractive(key) {\n",
              "          const element = document.querySelector('#df-bba08ede-2139-47d9-8411-d1cb136fe5e2');\n",
              "          const dataTable =\n",
              "            await google.colab.kernel.invokeFunction('convertToInteractive',\n",
              "                                                     [key], {});\n",
              "          if (!dataTable) return;\n",
              "\n",
              "          const docLinkHtml = 'Like what you see? Visit the ' +\n",
              "            '<a target=\"_blank\" href=https://colab.research.google.com/notebooks/data_table.ipynb>data table notebook</a>'\n",
              "            + ' to learn more about interactive tables.';\n",
              "          element.innerHTML = '';\n",
              "          dataTable['output_type'] = 'display_data';\n",
              "          await google.colab.output.renderOutput(dataTable, element);\n",
              "          const docLink = document.createElement('div');\n",
              "          docLink.innerHTML = docLinkHtml;\n",
              "          element.appendChild(docLink);\n",
              "        }\n",
              "      </script>\n",
              "    </div>\n",
              "  </div>\n",
              "  "
            ],
            "text/plain": [
              "user_id   30228  30235  30236  30258  30267  30269  30274  30276  30277  \\\n",
              "anime_id                                                                  \n",
              "356           9      8      9      7      8      9      7      7      7   \n",
              "\n",
              "user_id   30280  30284  30289  30295  30300  30303  \n",
              "anime_id                                            \n",
              "356          10     -1     10     -1      8      5  "
            ]
          },
          "metadata": {},
          "execution_count": 36
        }
      ]
    },
    {
      "cell_type": "markdown",
      "metadata": {
        "id": "AqAxhWi7ECh5"
      },
      "source": [
        "#### 4. Model Training"
      ]
    },
    {
      "cell_type": "code",
      "metadata": {
        "id": "jmeJf65_AYW0"
      },
      "source": [
        "dls = CollabDataLoaders.from_df(ratings, user_name='user_id', item_name='name')"
      ],
      "execution_count": null,
      "outputs": []
    },
    {
      "cell_type": "code",
      "metadata": {
        "colab": {
          "base_uri": "https://localhost:8080/",
          "height": 363
        },
        "id": "ecMNRlFKEG53",
        "outputId": "d4c7b801-4ea1-49d7-fda4-8b71ee79796d"
      },
      "source": [
        "dls.show_batch()"
      ],
      "execution_count": null,
      "outputs": [
        {
          "output_type": "display_data",
          "data": {
            "text/html": [
              "<table border=\"1\" class=\"dataframe\">\n",
              "  <thead>\n",
              "    <tr style=\"text-align: right;\">\n",
              "      <th></th>\n",
              "      <th>user_id</th>\n",
              "      <th>name</th>\n",
              "      <th>rating</th>\n",
              "    </tr>\n",
              "  </thead>\n",
              "  <tbody>\n",
              "    <tr>\n",
              "      <th>0</th>\n",
              "      <td>61441</td>\n",
              "      <td>Aa! Megami-sama!: Sorezore no Tsubasa</td>\n",
              "      <td>7</td>\n",
              "    </tr>\n",
              "    <tr>\n",
              "      <th>1</th>\n",
              "      <td>50017</td>\n",
              "      <td>xxxHOLiC Kei</td>\n",
              "      <td>10</td>\n",
              "    </tr>\n",
              "    <tr>\n",
              "      <th>2</th>\n",
              "      <td>64664</td>\n",
              "      <td>Nurarihyon no Mago: Sennen Makyou</td>\n",
              "      <td>9</td>\n",
              "    </tr>\n",
              "    <tr>\n",
              "      <th>3</th>\n",
              "      <td>14423</td>\n",
              "      <td>One Punch Man: Road to Hero</td>\n",
              "      <td>-1</td>\n",
              "    </tr>\n",
              "    <tr>\n",
              "      <th>4</th>\n",
              "      <td>6162</td>\n",
              "      <td>Kuroshitsuji</td>\n",
              "      <td>10</td>\n",
              "    </tr>\n",
              "    <tr>\n",
              "      <th>5</th>\n",
              "      <td>62483</td>\n",
              "      <td>Air Gear</td>\n",
              "      <td>9</td>\n",
              "    </tr>\n",
              "    <tr>\n",
              "      <th>6</th>\n",
              "      <td>4339</td>\n",
              "      <td>Onegai☆Teacher</td>\n",
              "      <td>6</td>\n",
              "    </tr>\n",
              "    <tr>\n",
              "      <th>7</th>\n",
              "      <td>26383</td>\n",
              "      <td>Lovely★Complex</td>\n",
              "      <td>9</td>\n",
              "    </tr>\n",
              "    <tr>\n",
              "      <th>8</th>\n",
              "      <td>43953</td>\n",
              "      <td>Nisekoi</td>\n",
              "      <td>5</td>\n",
              "    </tr>\n",
              "    <tr>\n",
              "      <th>9</th>\n",
              "      <td>1563</td>\n",
              "      <td>IS: Infinite Stratos 2</td>\n",
              "      <td>-1</td>\n",
              "    </tr>\n",
              "  </tbody>\n",
              "</table>"
            ],
            "text/plain": [
              "<IPython.core.display.HTML object>"
            ]
          },
          "metadata": {}
        }
      ]
    },
    {
      "cell_type": "code",
      "metadata": {
        "colab": {
          "base_uri": "https://localhost:8080/"
        },
        "id": "2CzBs1wxEoWT",
        "outputId": "e138256c-e9cd-4774-fc40-fc45070fc0cf"
      },
      "source": [
        "range_rating = (min(ratings[\"rating\"]), max(ratings[\"rating\"]))\n",
        "range_rating"
      ],
      "execution_count": null,
      "outputs": [
        {
          "output_type": "execute_result",
          "data": {
            "text/plain": [
              "(-1, 10)"
            ]
          },
          "metadata": {},
          "execution_count": 40
        }
      ]
    },
    {
      "cell_type": "code",
      "metadata": {
        "id": "E4ZeSAMREMHQ"
      },
      "source": [
        "learn = collab_learner(dls, n_factors=40, y_range=(-1.5, 10.5), metrics=rmse)"
      ],
      "execution_count": null,
      "outputs": []
    },
    {
      "cell_type": "code",
      "metadata": {
        "colab": {
          "base_uri": "https://localhost:8080/",
          "height": 175
        },
        "id": "IGHoV1biE3LA",
        "outputId": "ba337055-347e-40b3-a61d-586449305f6f"
      },
      "source": [
        "learn.fit_one_cycle(4)"
      ],
      "execution_count": null,
      "outputs": [
        {
          "output_type": "display_data",
          "data": {
            "text/html": [
              "<table border=\"1\" class=\"dataframe\">\n",
              "  <thead>\n",
              "    <tr style=\"text-align: left;\">\n",
              "      <th>epoch</th>\n",
              "      <th>train_loss</th>\n",
              "      <th>valid_loss</th>\n",
              "      <th>_rmse</th>\n",
              "      <th>time</th>\n",
              "    </tr>\n",
              "  </thead>\n",
              "  <tbody>\n",
              "    <tr>\n",
              "      <td>0</td>\n",
              "      <td>5.631492</td>\n",
              "      <td>5.369875</td>\n",
              "      <td>2.317300</td>\n",
              "      <td>19:11</td>\n",
              "    </tr>\n",
              "    <tr>\n",
              "      <td>1</td>\n",
              "      <td>5.279516</td>\n",
              "      <td>5.061967</td>\n",
              "      <td>2.249883</td>\n",
              "      <td>19:09</td>\n",
              "    </tr>\n",
              "    <tr>\n",
              "      <td>2</td>\n",
              "      <td>4.495621</td>\n",
              "      <td>4.883869</td>\n",
              "      <td>2.209946</td>\n",
              "      <td>19:07</td>\n",
              "    </tr>\n",
              "    <tr>\n",
              "      <td>3</td>\n",
              "      <td>4.994741</td>\n",
              "      <td>4.849998</td>\n",
              "      <td>2.202271</td>\n",
              "      <td>19:12</td>\n",
              "    </tr>\n",
              "  </tbody>\n",
              "</table>"
            ],
            "text/plain": [
              "<IPython.core.display.HTML object>"
            ]
          },
          "metadata": {}
        }
      ]
    },
    {
      "cell_type": "markdown",
      "metadata": {
        "id": "Vl25ygDvECh5"
      },
      "source": [
        "#### 5. Interpret the model and make predictions"
      ]
    },
    {
      "cell_type": "code",
      "metadata": {
        "colab": {
          "base_uri": "https://localhost:8080/"
        },
        "id": "OPTMKWIR6Oem",
        "outputId": "534ef87b-055c-4420-aee1-4b5bd4fb02c2"
      },
      "source": [
        "g = ratings.groupby('name')['rating'].count()\n",
        "top_animes = g.sort_values(ascending=False).index.values[:1000]\n",
        "top_animes"
      ],
      "execution_count": null,
      "outputs": [
        {
          "output_type": "execute_result",
          "data": {
            "text/plain": [
              "array(['Death Note', 'Sword Art Online', 'Shingeki no Kyojin', 'Code Geass: Hangyaku no Lelouch', 'Elfen Lied', 'Angel Beats!', 'Naruto', 'Fullmetal Alchemist', 'Fullmetal Alchemist: Brotherhood',\n",
              "       'Toradora!', 'Code Geass: Hangyaku no Lelouch R2', 'Highschool of the Dead', 'Sen to Chihiro no Kamikakushi', 'Mirai Nikki (TV)', 'Clannad', 'Ao no Exorcist', 'Another', 'Soul Eater',\n",
              "       'Tengen Toppa Gurren Lagann', 'Steins;Gate', 'Ouran Koukou Host Club', 'Suzumiya Haruhi no Yuuutsu', 'Durarara!!', 'No Game No Life', 'Tokyo Ghoul', 'Clannad: After Story',\n",
              "       'Neon Genesis Evangelion', 'Howl no Ugoku Shiro', 'Dragon Ball Z', 'Ano Hi Mita Hana no Namae wo Bokutachi wa Mada Shiranai.', 'Deadman Wonderland', 'Mahou Shoujo Madoka★Magica',\n",
              "       'Mononoke Hime', 'Bakemonogatari', 'K-On!', 'Darker than Black: Kuro no Keiyakusha', 'Kuroshitsuji', 'Cowboy Bebop', 'Kaichou wa Maid-sama!', 'Zero no Tsukaima', 'Noragami', 'Fate/stay night',\n",
              "       'Guilty Crown', 'High School DxD', 'Vampire Knight', 'Hataraku Maou-sama!', 'Byousoku 5 Centimeter', 'Fate/Zero', 'Dragon Ball', 'Hellsing', 'Samurai Champloo', 'Psycho-Pass',\n",
              "       'Chuunibyou demo Koi ga Shitai!', 'Rosario to Vampire', 'Kill la Kill', 'Ore no Imouto ga Konnani Kawaii Wake ga Nai', 'Sword Art Online II', 'One Punch Man', 'FLCL', 'Tonari no Kaibutsu-kun',\n",
              "       'Toki wo Kakeru Shoujo', 'Boku wa Tomodachi ga Sukunai', 'Higurashi no Naku Koro ni', 'Bleach', 'Akame ga Kill!', 'Tonari no Totoro', 'Black Lagoon', 'School Days', 'Chobits', 'Fairy Tail',\n",
              "       'Claymore', 'Baka to Test to Shoukanjuu', 'Btooom!', 'Fate/Zero 2nd Season', 'Kore wa Zombie Desu ka?', 'Zero no Tsukaima: Futatsuki no Kishi', 'Shakugan no Shana', 'Ookami to Koushinryou',\n",
              "       'Sakurasou no Pet na Kanojo', 'Yahari Ore no Seishun Love Comedy wa Machigatteiru.', 'Kami nomi zo Shiru Sekai', 'Kiseijuu: Sei no Kakuritsu', 'Tokyo Ghoul √A', 'Lucky☆Star', 'Kimi ni Todoke',\n",
              "       'Kuroko no Basket', 'Full Metal Panic!', 'Toaru Majutsu no Index', 'Log Horizon', 'Fullmetal Alchemist: The Conqueror of Shamballa', 'Kyoukai no Kanata', 'Fruits Basket', 'Dragon Ball GT',\n",
              "       'Trigun', 'Baccano!', 'Vampire Knight Guilty', 'Accel World', 'Higashi no Eden', 'IS: Infinite Stratos', 'Suzumiya Haruhi no Yuuutsu (2009)', 'Hyouka', 'Zero no Tsukaima: Princesses no Rondo',\n",
              "       'Death Parade', 'Nisekoi', 'Date A Live', 'Rosario to Vampire Capu2', 'Neon Genesis Evangelion: The End of Evangelion', 'Danganronpa: Kibou no Gakuen to Zetsubou no Koukousei The Animation',\n",
              "       'Nisemonogatari', 'K', 'Zankyou no Terror', 'NHK ni Youkoso!', 'Bleach Movie 1: Memories of Nobody', 'Lovely★Complex', 'Magi: The Labyrinth of Magic', 'Kuroshitsuji II',\n",
              "       'Darker than Black: Ryuusei no Gemini', 'Black Bullet', 'Great Teacher Onizuka', 'Akira', 'Black Lagoon: The Second Barrage', 'Summer Wars', 'Final Fantasy VII: Advent Children',\n",
              "       'Suzumiya Haruhi no Shoushitsu', 'K-On!!', 'Shigatsu wa Kimi no Uso', 'Clannad: Mou Hitotsu no Sekai, Tomoyo-hen', 'Digimon Adventure', 'Kiss x Sis (TV)', 'Pokemon', 'InuYasha',\n",
              "       'High School DxD New', 'Dungeon ni Deai wo Motomeru no wa Machigatteiru Darou ka', 'Free!', 'Kami nomi zo Shiru Sekai II', 'Full Metal Panic? Fumoffu', 'Ichiban Ushiro no Daimaou',\n",
              "       'Boku wa Tomodachi ga Sukunai Next', 'Boku dake ga Inai Machi', 'Gekkan Shoujo Nozaki-kun', 'Higurashi no Naku Koro ni Kai', 'Evangelion: 1.0 You Are (Not) Alone', 'Kokoro Connect',\n",
              "       'Ghost in the Shell', 'D.Gray-man', 'Sukitte Ii na yo.', 'Air', 'Sora no Otoshimono', 'To LOVE-Ru', 'Sankarea', 'Shakugan no Shana II (Second)', 'Bakuman.',\n",
              "       'Bleach Movie 2: The DiamondDust Rebellion - Mou Hitotsu no Hyourinmaru', 'Hunter x Hunter (2011)', 'Blood Lad', 'Ookami to Koushinryou II', 'B Gata H Kei', 'Air Gear',\n",
              "       'Ore no Imouto ga Konnani Kawaii Wake ga Nai.', 'Kaze no Stigma', 'Watashi ga Motenai no wa Dou Kangaetemo Omaera ga Warui!', 'Devil May Cry', 'Kuroko no Basket 2nd Season', 'Shiki',\n",
              "       'Nanatsu no Taizai', 'Danshi Koukousei no Nichijou', 'Toaru Kagaku no Railgun', 'Full Metal Panic! The Second Raid', 'Owari no Seraph', 'Love Hina', 'Black★Rock Shooter (OVA)',\n",
              "       'Evangelion: 2.0 You Can (Not) Advance', 'Shokugeki no Souma', 'Sekirei', 'Baka to Test to Shoukanjuu Ni!', 'Clannad: After Story - Mou Hitotsu no Sekai, Kyou-hen',\n",
              "       'Rurouni Kenshin: Meiji Kenkaku Romantan', 'Seitokai Yakuindomo', 'Mayo Chiki!', 'Kimi ni Todoke 2nd Season', 'ChäoS;HEAd', 'Eureka Seven',\n",
              "       'Naruto Movie 1: Dai Katsugeki!! Yuki Hime Shinobu Houjou Dattebayo!', 'Majo no Takkyuubin', 'Shaman King', 'Golden Time', 'Highschool of the Dead: Drifters of the Dead', 'Hotaru no Haka',\n",
              "       'Aldnoah.Zero', 'Ergo Proxy', 'Fate/stay night: Unlimited Blade Works', 'Ookami Kodomo no Ame to Yuki', 'Inu x Boku SS', 'Kore wa Zombie Desu ka? of the Dead', 'Mahouka Koukou no Rettousei',\n",
              "       'Tenkuu no Shiro Laputa', 'Black★Rock Shooter (TV)', 'Pandora Hearts', 'Mondaiji-tachi ga Isekai kara Kuru Sou Desu yo?', 'Zetsuen no Tempest', 'Hellsing Ultimate', 'Blood+',\n",
              "       'Cardcaptor Sakura', 'Toaru Majutsu no Index II', 'Steins;Gate: Oukoubakko no Poriomania', 'Charlotte', 'Special A', 'Hentai Ouji to Warawanai Neko.', 'Haikyuu!!', 'Elfen Lied Special',\n",
              "       'Magi: The Kingdom of Magic', 'Kanon (2006)', 'Zero no Tsukaima F', 'Bleach Movie 3: Fade to Black - Kimi no Na wo Yobu', 'School Rumble', 'Berserk', 'Shuffle!', 'Kaze no Tani no Nausicaä',\n",
              "       'Kara no Kyoukai 1: Fukan Fuukei', 'Bishoujo Senshi Sailor Moon', 'Chuunibyou demo Koi ga Shitai! Ren', 'Gosick', 'Working!!', 'Angel Beats!: Another Epilogue', 'Mushishi', 'Usagi Drop',\n",
              "       'Hotarubi no Mori e', 'Nyan Koi!', 'Cowboy Bebop: Tengoku no Tobira', 'Naruto: Shippuuden Movie 1', 'Nekomonogatari: Kuro', 'Hidan no Aria', 'Gantz', 'Paprika', 'Gake no Ue no Ponyo',\n",
              "       'Ao Haru Ride', 'Yuu☆Yuu☆Hakusho', 'Katekyo Hitman Reborn!', 'Noragami Aragoto', 'Azumanga Daioh', 'Yosuga no Sora: In Solitude, Where We Are Least Alone.', 'Barakamon',\n",
              "       'Digimon Adventure 02', 'Freezing', 'Amagi Brilliant Park', 'Kotonoha no Niwa', 'Ore no Nounai Sentakushi ga, Gakuen Love Comedy wo Zenryoku de Jama Shiteiru',\n",
              "       'Gate: Jieitai Kanochi nite, Kaku Tatakaeri', 'Sora no Otoshimono: Forte', 'Kämpfer', 'Pokemon: Mewtwo no Gyakushuu', 'Steins;Gate Movie: Fuka Ryouiki no Déjà vu',\n",
              "       'Yahari Ore no Seishun Love Comedy wa Machigatteiru. Zoku', 'Psycho-Pass 2', 'Bokusatsu Tenshi Dokuro-chan', 'Kamisama Hajimemashita', 'Overlord', 'Ansatsu Kyoushitsu (TV)',\n",
              "       'Strike the Blood', 'Afro Samurai', 'Suisei no Gargantia', 'Nana', 'No.6', 'Ghost in the Shell: Stand Alone Complex', 'Naruto Movie 2: Dai Gekitotsu! Maboroshi no Chiteiiseki Dattebayo!',\n",
              "       'Wolf&#039;s Rain', 'Shinsekai yori', 'C: The Money of Soul and Possibility Control', 'Chrno Crusade', 'Darker than Black: Kuro no Keiyakusha Gaiden', 'Tasogare Otome x Amnesia',\n",
              "       'Fate/stay night: Unlimited Blade Works 2nd Season', 'Bakuman. 2nd Season', 'Ookami-san to Shichinin no Nakama-tachi', 'D.N.Angel', 'Dakara Boku wa, H ga Dekinai.', 'Ano Natsu de Matteru',\n",
              "       'Re:Zero kara Hajimeru Isekai Seikatsu', 'Serial Experiments Lain', 'Sayonara Zetsubou Sensei', 'Black Cat', 'Monogatari Series: Second Season', 'Natsume Yuujinchou', 'Date A Live II',\n",
              "       'Boku no Hero Academia', 'Naruto: Shippuuden Movie 2 - Kizuna', 'Junjou Romantica', 'MM!', 'Kara no Kyoukai 2: Satsujin Kousatsu (Zen)', 'Itazura na Kiss',\n",
              "       'Naruto Movie 3: Dai Koufun! Mikazuki Jima no Animaru Panikku Dattebayo!', 'Seto no Hanayome', 'Beelzebub', 'Hagure Yuusha no Aesthetica', 'Skip Beat!', '11eyes', 'Rokka no Yuusha',\n",
              "       'Panty &amp; Stocking with Garterbelt', 'Nichijou', 'Rozen Maiden', 'Mirai Nikki Redial', 'Campione!: Matsurowanu Kamigami to Kamigoroshi no Maou', 'ef: A Tale of Memories.',\n",
              "       'Motto To LOVE-Ru', 'Trinity Seven', 'Log Horizon 2nd Season', 'Beck', 'Yu☆Gi☆Oh! Duel Monsters', 'Kami nomi zo Shiru Sekai: Megami-hen', 'Arakawa Under the Bridge',\n",
              "       'Rurouni Kenshin: Meiji Kenkaku Romantan - Tsuioku-hen', 'Maoyuu Maou Yuusha', 'Ben-To', 'Sword Art Online: Extra Edition', 'Shijou Saikyou no Deshi Kenichi', 'Jigoku Shoujo',\n",
              "       'Mekakucity Actors', 'Hunter x Hunter', 'Ore no Imouto ga Konnani Kawaii Wake ga Nai Specials', 'Kanokon', 'Bokura wa Minna Kawaisou', 'Kara no Kyoukai 3: Tsuukaku Zanryuu',\n",
              "       'Neon Genesis Evangelion: Death &amp; Rebirth', 'Golden Boy', 'Asu no Yoichi!', 'Ore no Kanojo to Osananajimi ga Shuraba Sugiru', 'Amagami SS', 'Onegai☆Teacher', 'Prison School', 'xxxHOLiC',\n",
              "       'Denpa Onna to Seishun Otoko', 'Tsubasa Chronicle', 'Durarara!!x2 Shou', 'Nagi no Asukara', 'Kono Subarashii Sekai ni Shukufuku wo!', 'Myself; Yourself', 'Nodame Cantabile',\n",
              "       'Pokemon: Maboroshi no Pokemon Lugia Bakutan', 'Ga-Rei: Zero', 'Durarara!! Specials', 'Katanagatari', 'IS: Infinite Stratos 2', 'Gokukoku no Brynhildr', 'True Tears',\n",
              "       'Fate/stay night Movie: Unlimited Blade Works', 'Baccano! Specials', 'Kara no Kyoukai 4: Garan no Dou', 'Sekirei: Pure Engagement', 'Karin', 'Mobile Suit Gundam 00',\n",
              "       'Dance in the Vampire Bund', 'Hitsugi no Chaika', 'Tenjou Tenge', 'Haiyore! Nyaruko-san', 'Gangsta.', 'Higashi no Eden Movie I: The King of Eden', 'D-Frag!', 'Aldnoah.Zero 2nd Season',\n",
              "       'Stranger: Mukou Hadan', 'Akatsuki no Yona', 'Yamada-kun to 7-nin no Majo (TV)', 'Omamori Himari', 'Clannad Movie', 'Lucky☆Star: Original na Visual to Animation',\n",
              "       'Bleach: Memories in the Rain', 'Nisekoi:', 'Princess Lover!', 'JoJo no Kimyou na Bouken (TV)', 'Kara no Kyoukai 5: Mujun Rasen', 'Oda Nobuna no Yabou', 'Working&#039;!!', 'DearS', 'Gintama',\n",
              "       'Bakuman. 3rd Season', 'Evangelion: 3.0 You Can (Not) Redo', 'Neko no Ongaeshi', 'Naruto: Shippuuden Movie 3 - Hi no Ishi wo Tsugu Mono', 'Bleach Movie 4: Jigoku-hen', 'Hajime no Ippo',\n",
              "       'Digimon Tamers', 'Kuroko no Basket 3rd Season', 'School Rumble Ni Gakki', 'Darker than Black: Kuro no Keiyakusha Special', 'Kokoro Connect: Michi Random', 'Midori no Hibi', 'Mirai Nikki',\n",
              "       'Pokemon: Kesshoutou no Teiou Entei', '07-Ghost', 'Code:Breaker', 'Grisaia no Kajitsu', 'Trinity Blood', 'Tokyo Ravens', 'K-On! Movie', 'Koutetsujou no Kabaneri',\n",
              "       'Machine-Doll wa Kizutsukanai', 'Gantz 2nd Stage', 'Bokura ga Ita', 'Detroit Metal City', 'Green Green', 'Phantom: Requiem for the Phantom', 'Junjou Romantica 2', 'To LOVE-Ru Darkness',\n",
              "       'Hetalia Axis Powers', 'Higurashi no Naku Koro ni Rei', 'Sakamichi no Apollon', 'Outbreak Company', 'Bleach: The Sealed Sword Frenzy', 'Ghost Hunt',\n",
              "       'Shimoneta to Iu Gainen ga Sonzai Shinai Taikutsu na Sekai', 'Akaneiro ni Somaru Saka', 'Owari no Seraph: Nagoya Kessen-hen', 'Umineko no Naku Koro ni', 'Densetsu no Yuusha no Densetsu',\n",
              "       'Zoku Natsume Yuujinchou', 'Shakugan no Shana III (Final)', 'High School DxD BorN', 'Monster', 'Plastic Memories', 'Fate/stay night: Unlimited Blade Works - Prologue',\n",
              "       'Hai to Gensou no Grimgar', 'Yuru Yuri', 'Naruto: Shippuuden Movie 4 - The Lost Tower', 'Maria†Holic', 'Ladies versus Butlers!', 'Aa! Megami-sama! (TV)', 'Canaan',\n",
              "       'Ookami Shoujo to Kuro Ouji', 'Free!: Eternal Summer', 'Toaru Kagaku no Railgun S', 'Karigurashi no Arrietty', 'Persona 4 the Animation', 'Monster Musume no Iru Nichijou', 'Hanasaku Iroha',\n",
              "       'Yamato Nadeshiko Shichihenge♥', 'Mahou Shoujo Madoka★Magica Movie 3: Hangyaku no Monogatari', 'Chihayafuru', 'Isshuukan Friends.', 'Yu☆Gi☆Oh!', 'Perfect Blue', 'Jormungand',\n",
              "       'Kara no Kyoukai 6: Boukyaku Rokuon', 'Amnesia', 'Absolute Duo', 'Chrome Shelled Regios', 'Corpse Party: Tortured Souls - Bougyakusareta Tamashii no Jukyou', 'Kotoura-san',\n",
              "       'Nurarihyon no Mago', 'Loveless', 'Shugo Chara!', 'Mousou Dairinin', 'Shinmai Maou no Testament', 'Busou Renkin', 'Danna ga Nani wo Itteiru ka Wakaranai Ken', 'Hayate no Gotoku!',\n",
              "       'Mobile Suit Gundam Seed', 'One Piece Film: Strong World', '.hack//Sign', 'Binbougami ga!', 'Papa no Iukoto wo Kikinasai!', 'Gate: Jieitai Kanochi nite, Kaku Tatakaeri 2nd Season',\n",
              "       'Bokusatsu Tenshi Dokuro-chan 2', 'Dragon Crisis!', 'Seitokai no Ichizon', 'Kekkai Sensen', 'Zombie-Loan', 'Mikakunin de Shinkoukei', 'Final Fantasy VII: Advent Children Complete',\n",
              "       'Mawaru Penguindrum', 'Sekaiichi Hatsukoi', 'Rakudai Kishi no Cavalry', 'Another: The Other - Inga', 'Seikon no Qwaser', 'Genshiken', 'Love Live! School Idol Project',\n",
              "       'Kumo no Mukou, Yakusoku no Basho', 'Kamisama no Memochou', 'Minami-ke', 'Mimi wo Sumaseba', 'Kannagi', 'Kuragehime', 'Black Lagoon: Roberta&#039;s Blood Trail',\n",
              "       'Ghost in the Shell: Stand Alone Complex 2nd GIG', 'Redline', 'Kara no Kyoukai 7: Satsujin Kousatsu (Kou)', 'Bishoujo Senshi Sailor Moon R', 'Final Fantasy: The Spirits Within',\n",
              "       'Ore Monogatari!!', 'Inou-Battle wa Nichijou-kei no Naka de', 'Girls Bravo: First Season', 'Mobile Suit Gundam 00 Second Season', 'Shingetsutan Tsukihime', 'Kimi ga Nozomu Eien',\n",
              "       'Acchi Kocchi (TV)', 'Ao no Exorcist Movie', 'Ikkitousen', 'Naruto: Shippuuden Movie 6 - Road to Ninja', 'Love Hina Again', 'Dragon Ball Z Movie 08: Moetsukiro!! Nessen, Ressen, Chougekisen',\n",
              "       'K-On!: Live House!', 'Ghost in the Shell 2: Innocence', 'Blood: The Last Vampire', 'Paradise Kiss', 'Dragon Ball Kai', 'Uta no☆Prince-sama♪ Maji Love 1000%', 'Hamatora The Animation',\n",
              "       'Gunslinger Girl', 'Hoshi no Koe', 'Ookami to Koushinryou II: Ookami to Kohakuiro no Yuuutsu', 'Maji de Watashi ni Koi Shinasai!', 'Pokemon: The Origin', 'ReLIFE', 'Little Witch Academia',\n",
              "       'Mobile Suit Gundam Wing', 'Deadman Wonderland OVA', 'Rozen Maiden: Träumend', 'Saenai Heroine no Sodatekata', 'Oniichan dakedo Ai Sae Areba Kankeinai yo ne!', 'Blood-C',\n",
              "       'Hyakka Ryouran: Samurai Girls', 'Nogizaka Haruka no Himitsu', 'Haikyuu!! Second Season', 'Gravitation', 'Higashi no Eden Movie II: Paradise Lost', 'Death Billiards', 'Maken-Ki!',\n",
              "       'Witch Craft Works', 'Tsubasa Chronicle 2nd Season', 'Yuusha ni Narenakatta Ore wa Shibushibu Shuushoku wo Ketsui Shimashita.', 'Tamako Market', 'Naruto: Shippuuden Movie 5 - Blood Prison',\n",
              "       'Hachimitsu to Clover', 'Death Note Rewrite', 'Shingeki no Bahamut: Genesis', 'Akuma no Riddle', 'Digimon Adventure Movie', 'Vampire Hunter D (2000)', 'To LOVE-Ru OVA', 'Medaka Box',\n",
              "       'Boku wa Tomodachi ga Sukunai Episode 0', 'Tokyo Magnitude 8.0', 'Dragon Ball Z Movie 05: Tobikkiri no Saikyou tai Saikyou', 'Asobi ni Iku yo!', 'Gakusen Toshi Asterisk', 'Last Exile',\n",
              "       'Bishoujo Senshi Sailor Moon S', 'Dragon Ball Z Movie 01: Ora no Gohan wo Kaese!!', 'Mangaka-san to Assistant-san to The Animation', 'Gin no Saji',\n",
              "       'Fullmetal Alchemist: The Sacred Star of Milos', 'Digimon Frontier', 'InuYasha: Kanketsu-hen', 'Natsume Yuujinchou San', 'Arcana Famiglia',\n",
              "       'Dragon Ball Z Movie 03: Chikyuu Marugoto Choukessen', 'Nazo no Kanojo X', 'C³', 'Kono Naka ni Hitori, Imouto ga Iru!', 'Hanamonogatari', 'Seirei Tsukai no Blade Dance', 'Macross F',\n",
              "       'Naruto: Takigakure no Shitou - Ore ga Eiyuu Dattebayo!', 'Kamisama no Inai Nichiyoubi', 'Hajime no Ippo: New Challenger', 'Gintama&#039;', 'Hoshizora e Kakaru Hashi', 'Haibane Renmei',\n",
              "       'Onegai☆Twins', 'ef: A Tale of Melodies.', 'Black Blood Brothers', 'Basilisk: Kouga Ninpou Chou', 'Ore no Imouto ga Konnani Kawaii Wake ga Nai. Specials', 'Pokemon: Celebi Toki wo Koeta Deai',\n",
              "       'Kakumeiki Valvrave', 'Nabari no Ou', 'Kurenai no Buta', 'Dog Days', 'Nodame Cantabile: Paris-hen', 'Shingeki no Kyojin OVA', 'Seiken no Blacksmith', 'Ichigo 100%',\n",
              "       'Shokugeki no Souma: Ni no Sara', 'Himouto! Umaru-chan', 'Yumekui Merry', 'Fairy Tail Movie 1: Houou no Miko', 'Dragon Ball Z Movie 06: Gekitotsu!! 100-oku Power no Senshi-tachi',\n",
              "       'Mnemosyne: Mnemosyne no Musume-tachi', 'Dragon Ball Z Movie 02: Kono Yo de Ichiban Tsuyoi Yatsu', 'Kuroshitsuji: Book of Circus', 'Mahou Sensei Negima!', 'Toradora!: Bentou no Gokui',\n",
              "       'Ryuugajou Nanana no Maizoukin (TV)', 'Eve no Jikan', 'Baka to Test to Shoukanjuu: Matsuri', 'Mob Psycho 100', 'Little Busters!', 'Kore wa Zombie Desu ka? OVA', 'Tokyo Godfathers', 'Mai-HiME',\n",
              "       'Devil Survivor 2 The Animation', 'High School DxD Specials', 'JoJo no Kimyou na Bouken: Stardust Crusaders', 'Kiznaiver', 'Tenkuu no Escaflowne', 'Rec', 'Sidonia no Kishi',\n",
              "       'Madan no Ou to Vanadis', 'Robotics;Notes', 'Dragon Ball Z Movie 12: Fukkatsu no Fusion!! Gokuu to Vegeta', 'Yahari Ore no Seishun Love Comedy wa Machigatteiru. OVA', 'Hakuouki',\n",
              "       'Dragon Ball Z Movie 10: Kiken na Futari! Super Senshi wa Nemurenai', 'Sengoku Basara', 'Mahou Sensou',\n",
              "       'Naruto: Dai Katsugeki!! Yuki Hime Shinobu Houjou Dattebayo! Special: Konoha Annual Sports Festival', 'Durarara!!x2 Ten', 'Shinryaku! Ika Musume', 'Arakawa Under the Bridge x Bridge',\n",
              "       'Akikan!', 'One Piece Film: Z', 'xxxHOLiC Kei', 'InuYasha: Kagami no Naka no Mugenjo', 'Cardcaptor Sakura Movie 2: Fuuin Sareta Card', 'Diabolik Lovers', 'Slayers',\n",
              "       'Final Fantasy VII: Last Order', 'Strike Witches', 'Kami nomi zo Shiru Sekai: Tenri-hen', 'Full Metal Panic! The Second Raid: Wari to Hima na Sentaichou no Ichinichi', 'Fairy Tail OVA',\n",
              "       'Sekaiichi Hatsukoi 2', 'Fortune Arterial: Akai Yakusoku', 'Goshuushou-sama Ninomiya-kun', 'Code Geass: Boukoku no Akito 1 - Yokuryuu wa Maiorita', 'Samurai 7',\n",
              "       'Love Hina Christmas Special: Silent Eve', 'Tiger &amp; Bunny', 'Brave 10', 'Hyouka: Motsubeki Mono wa', 'Gungrave', 'Naruto: Akaki Yotsuba no Clover wo Sagase', 'Cardcaptor Sakura Movie 1',\n",
              "       'Dragon Ball Z Movie 07: Kyokugen Battle!! Sandai Super Saiyajin', 'Dragon Ball Z Movie 04: Super Saiyajin da Son Gokuu', 'Akagami no Shirayuki-hime', 'Kimi ga Aruji de Shitsuji ga Ore de',\n",
              "       'Needless', 'Ranma ½', 'Berserk: Ougon Jidai-hen I - Haou no Tamago', 'Jormungand: Perfect Order', 'Tsukimonogatari', 'Non Non Biyori', 'Koi to Senkyo to Chocolate',\n",
              "       'Chuunibyou demo Koi ga Shitai!: Kirameki no... Slapstick Noel', 'Karneval (TV)', 'Natsume Yuujinchou Shi', 'Seitokai Yakuindomo*', 'Amagami SS+ Plus', 'Dragon Ball Z Movie 14: Kami to Kami',\n",
              "       'Mobile Suit Gundam Seed Destiny', 'Mahou Shoujo Madoka★Magica Movie 1: Hajimari no Monogatari', 'Pokemon Advanced Generation', 'Gedo Senki', 'Hitsugi no Chaika: Avenging Battle',\n",
              "       'Girls Bravo: Second Season', 'Astarotte no Omocha!', 'Tengen Toppa Gurren Lagann Movie: Gurren-hen', 'Nurarihyon no Mago: Sennen Makyou', 'Sora no Otoshimono: Project Pink',\n",
              "       'Dragon Ball Z Movie 09: Ginga Girigiri!! Bucchigiri no Sugoi Yatsu', 'InuYasha: Toki wo Koeru Omoi', 'Romeo x Juliet', 'Suzumiya Haruhi-chan no Yuuutsu', 'Sola', 'Haiyore! Nyaruko-san W',\n",
              "       'Jigoku Shoujo Futakomori', 'Utawarerumono', 'Maburaho', 'Sora no Otoshimono: Tokeijikake no Angeloid', 'Space☆Dandy', 'Seihou Bukyou Outlaw Star', 'Trigun: Badlands Rumble',\n",
              "       'Girls und Panzer', 'Kill la Kill Special', 'Gakkougurashi!', 'Denpa-teki na Kanojo', 'H2O: Footprints in the Sand', 'Dragon Ball Z Movie 11: Super Senshi Gekiha!! Katsu no wa Ore da',\n",
              "       'Appleseed (Movie)', 'Dragon Ball Z Movie 13: Ryuuken Bakuhatsu!! Goku ga Yaraneba Dare ga Yaru', 'Arslan Senki (TV)', 'Grisaia no Rakuen', 'Hanbun no Tsuki ga Noboru Sora',\n",
              "       'Kareshi Kanojo no Jijou', 'Yuru Yuri♪♪', 'Zero no Tsukaima: Princesses no Rondo - Yuuwaku no Sunahama', 'Hibike! Euphonium', 'InuYasha: Tenka Hadou no Ken', 'Nodame Cantabile Finale',\n",
              "       'Zoku Sayonara Zetsubou Sensei', 'Dragon Ball Z Special 1: Tatta Hitori no Saishuu Kessen', 'Chihayafuru 2', 'Rainbow: Nisha Rokubou no Shichinin', 'Bishoujo Senshi Sailor Moon SuperS',\n",
              "       'One Punch Man: Road to Hero', 'Ai Yori Aoshi', 'Juubee Ninpuuchou', 'Love Hina Haru Special: Kimi Sakura Chiru Nakare!!', 'Mashiro-iro Symphony: The Color of Lovers', 'Seirei no Moribito',\n",
              "       'Kore ga Watashi no Goshujinsama', 'Mayoi Neko Overrun!', 'Shinrei Tantei Yakumo', 'Gyakkyou Burai Kaiji: Ultimate Survivor', 'Tengen Toppa Gurren Lagann Movie: Lagann-hen',\n",
              "       'Asura Cryin&#039;', 'InuYasha: Guren no Houraijima', 'God Eater', 'Hayate no Gotoku!!', 'Tsubasa: Tokyo Revelations', 'Mahou Shoujo Madoka★Magica Movie 2: Eien no Monogatari',\n",
              "       'Musaigen no Phantom World', 'Break Blade 1: Kakusei no Toki', 'Bounen no Xamdou', 'Ao no Exorcist: Kuro no Iede', 'Date A Live: Date to Date', 'Aishiteruze Baby★★',\n",
              "       'Soredemo Sekai wa Utsukushii', 'Hunter x Hunter: Greed Island', 'IS: Infinite Stratos Encore - Koi ni Kogareru Rokujuusou', 'Seiken Tsukai no World Break', 'Bungou Stray Dogs',\n",
              "       'Naruto Narutimate Hero 3: Tsuini Gekitotsu! Jounin vs. Genin!! Musabetsu Dairansen taikai Kaisai!!', 'Boku wa Tomodachi ga Sukunai: Relay Shousetsu wa Ketsumatsu ga Hanpanai', 'Genshiken 2',\n",
              "       'Servant x Service', 'Kami nomi zo Shiru Sekai: 4-nin to Idol', 'Druaga no Tou: The Aegis of Uruk', 'Rurouni Kenshin: Meiji Kenkaku Romantan - Seisou-hen',\n",
              "       'Chuunibyou demo Koi ga Shitai! Lite', 'Plastic Neesan', 'One Piece Movie 1', 'Ansatsu Kyoushitsu (TV) 2nd Season', 'Vandread', 'Kanojo to Kanojo no Neko', 'Hachimitsu to Clover II',\n",
              "       'Gatchaman Crowds', 'Hunter x Hunter: Greed Island Final', 'Dantalian no Shoka', 'Pokemon Advanced Generation: Mew to Hadou no Yuusha Lucario', 'Freezing Vibration',\n",
              "       'Afro Samurai: Resurrection', 'Suzuka', 'Fullmetal Alchemist: Premium Collection', 'Kiniro no Corda: Primo Passo', 'Fullmetal Alchemist: Brotherhood Specials', 'Saint Seiya', 'Love Stage!!',\n",
              "       'Sakura Trick', 'Yu☆Gi☆Oh!: Duel Monsters GX', 'Dragon Ball Z Special 2: Zetsubou e no Hankou!! Nokosareta Chousenshi - Gohan to Trunks', 'Seikoku no Dragonar',\n",
              "       'Bishoujo Senshi Sailor Moon: Sailor Stars', 'Kyoukaisenjou no Horizon', 'Kuroshitsuji Special', 'Shikabane Hime: Aka', 'Berserk: Ougon Jidai-hen II - Doldrey Kouryaku',\n",
              "       'Bakuten Shoot Beyblade', 'UN-GO', 'Gin no Saji 2nd Season', 'Terra Formars', 'Kodomo no Jikan (TV)', 'Hunter x Hunter OVA', 'Noragami OVA', 'Erementar Gerad',\n",
              "       'Love Live! School Idol Project 2nd Season', 'Dimension W', 'Aki-Sora', 'Strawberry Panic', 'Ajin', 'Tokyo ESP', 'Heppoko Jikken Animation Excel♥Saga', 'Sakasama no Patema', 'Tokyo Mew Mew',\n",
              "       'JoJo no Kimyou na Bouken: Stardust Crusaders 2nd Season', 'GJ-bu', 'Ano Hi Mita Hana no Namae wo Bokutachi wa Mada Shiranai. Movie', 'GetBackers', 'Hoshi wo Ou Kodomo',\n",
              "       'Break Blade 2: Ketsubetsu no Michi', 'Prince of Tennis', 'Tales of the Abyss', 'Slam Dunk', 'Pokemon Advanced Generation: Rekkuu no Houmonsha Deoxys', 'One Outs',\n",
              "       'Danna ga Nani wo Itteiru ka Wakaranai Ken 2 Sure-me', 'Initial D First Stage', 'Sakamoto desu ga?', 'Shingeki no Kyojin: Ano Hi Kara', 'Senjou no Valkyria', 'Rozen Maiden: Ouvertüre',\n",
              "       'High School DxD OVA', 'Seikimatsu Occult Gakuin', 'Kaichou wa Maid-sama!: Omake dayo!', 'Pupa', 'Medaka Box Abnormal', 'Hakushaku to Yousei', 'Accel World EX',\n",
              "       'Fate/kaleid liner Prisma☆Illya', 'Pokemon Advanced Generation: Nanayo no Negaiboshi Jirachi', 'The Last: Naruto the Movie', 'K: Missing Kings', 'Kamisama Hajimemashita◎',\n",
              "       'Higurashi no Naku Koro ni Special: Nekogoroshi-hen', 'Shugo Chara!! Doki', 'Itsuka Tenma no Kuro Usagi', 'Kobato.', 'Aoki Hagane no Arpeggio: Ars Nova',\n",
              "       'Kore wa Zombie Desu ka? of the Dead OVA', 'Witch Hunter Robin', 'Tsuritama', 'The Animatrix', 'Angel Beats! Specials', 'Vampire Hunter D', 'Tari Tari', 'Gankutsuou', 'Glasslip',\n",
              "       'Kimikiss Pure Rouge', 'Minami-ke Okawari', 'Saikin, Imouto no Yousu ga Chotto Okashiinda ga.', 'Netoge no Yome wa Onnanoko ja Nai to Omotta?', 'Zetman',\n",
              "       'Grisaia no Meikyuu: Caprice no Mayu 0', 'Kurokami The Animation', 'School Rumble Ichi Gakki Hoshuu', 'Pokemon: Mizu no Miyako no Mamorigami Latias to Latios', 'Soul Eater NOT!',\n",
              "       'Kino no Tabi: The Beautiful World', 'Hatsukoi Limited', 'Kimi to Boku.', 'Yowamushi Pedal', 'Berserk: Ougon Jidai-hen III - Kourin', 'Break Blade 3: Kyoujin no Ato', 'Hiyokoi',\n",
              "       'Inu to Hasami wa Tsukaiyou', 'Gintama&#039;: Enchousen', 'Bamboo Blade', 'Pokemon: Mewtwo! Ware wa Koko ni Ari', 'Gintama Movie: Kanketsu-hen - Yorozuya yo Eien Nare',\n",
              "       'Kuroshitsuji II Specials', 'Tonari no Seki-kun', 'Toradora!: SOS!', 'Isekai no Seikishi Monogatari', 'Air Movie', 'Hajime no Ippo: Champion Road', 'Rokujouma no Shinryakusha!? (TV)',\n",
              "       'Witchblade', 'Shakugan no Shana Movie', 'Guilty Crown: Lost Christmas', 'Brothers Conflict', 'Mushishi Zoku Shou', 'Kaze Tachinu', 'One Piece Movie 4: Dead End no Bouken', 'K-On!!: Keikaku!',\n",
              "       'Kakumeiki Valvrave 2nd Season', 'Boku no Pico', 'Love Lab', 'Dagashi Kashi', 'Carnival Phantasm', 'One Piece Movie 2: Nejimaki-jima no Daibouken', 'Break Blade 4: Sanka no Chi', 'Rail Wars!',\n",
              "       'Okusama ga Seitokaichou!', 'Eve no Jikan (Movie)', 'Amaenaide yo!!', 'Little Busters!: Refrain', 'Shingeki no Kyojin: Kuinaki Sentaku', 'Kanojo ga Flag wo Oraretara',\n",
              "       'Ikkitousen: Dragon Destiny', 'Sankarea OVA', 's.CRY.ed', 'Fushigi Yuugi', 'Eyeshield 21', 'Chobits: Chibits', 'Gugure! Kokkuri-san', 'Kure-nai', 'Shirobako', 'Nagasarete Airantou',\n",
              "       '.hack//Tasogare no Udewa Densetsu', 'Mahou Shoujo Lyrical Nanoha', 'One Piece Movie 3: Chinjuu-jima no Chopper Oukoku', 'RahXephon', 'Hikaru no Go', 'Jitsu wa Watashi wa', 'Cencoroll',\n",
              "       'Shakugan no Shana S', 'Taimadou Gakuen 35 Shiken Shoutai', 'Kekkaishi', 'Corpse Party: Missing Footage', 'Yu☆Gi☆Oh!: Hikari no Pyramid', 'Onegai☆Teacher: Himitsu na Futari',\n",
              "       'Dogs: Bullets &amp; Carnage', 'Nourin', 'Working!!!', 'Ghost in the Shell: Stand Alone Complex - Solid State Society', 'Planetes', 'xxxHOLiC Movie: Manatsu no Yoru no Yume',\n",
              "       'Nogizaka Haruka no Himitsu: Purezza', 'Tenshi Kinryouku', 'Fairy Tail (2014)', 'Break Blade 5: Shisen no Hate', 'Jin-Rou', 'Otome Youkai Zakuro', 'Aoharu x Kikanjuu', 'So Ra No Wo To',\n",
              "       'White Album 2', 'Vandread: The Second Stage', 'Sunabouzu', 'Fairy Tail x Rave', 'Ping Pong The Animation', 'Heroic Age', 'One Piece Movie 6: Omatsuri Danshaku to Himitsu no Shima',\n",
              "       'Seikon no Qwaser II', 'School Rumble San Gakki', 'Aa! Megami-sama!: Sorezore no Tsubasa', 'Initial D Second Stage', 'Blood Lad: Wagahai wa Neko de wa Nai', 'Druaga no Tou: The Sword of Uruk',\n",
              "       'Peach Girl', 'Saishuu Heiki Kanojo', 'Dog Days&#039;', 'K: Return of Kings', 'Owarimonogatari', 'Tegamibachi', 'Giniro no Kami no Agito', 'Genshiken OVA', 'Gakuen Alice',\n",
              "       'Selector Infected WIXOSS', 'R.O.D OVA', 'Break Blade 6: Doukoku no Toride', 'Slayers Next', 'Casshern Sins', 'Oniichan no Koto nanka Zenzen Suki ja Nai n da kara ne!!', 'Durarara!!x2 Ketsu',\n",
              "       'Kantai Collection: KanColle', 'One Piece Movie 5: Norowareta Seiken', 'Toaru Majutsu no Index: Endymion no Kiseki', 'Star Driver: Kagayaki no Takuto', 'Speed Grapher', 'Asura Cryin&#039; 2',\n",
              "       'Shikabane Hime: Kuro', 'Hajime no Ippo: Mashiba vs. Kimura', 'Coppelion', 'Sakurako-san no Ashimoto ni wa Shitai ga Umatteiru', 'Ookamikakushi', 'Inu x Boku SS Special',\n",
              "       'Zettai Karen Children: The Unlimited - Hyoubu Kyousuke', 'Kimi no Na wa.', 'Orange', 'Kaichou wa Maid-sama!: Goshujinsama to Asonjao♥', 'Psycho-Pass Movie', 'Hajime no Ippo: Rising',\n",
              "       'Uta no☆Prince-sama♪ Maji Love 2000%', 'Re:␣Hamatora', 'Minami-ke Okaeri', 'X', 'Scrapped Princess', 'The Law of Ueki', 'Aoi Bungaku Series', 'Digimon Adventure: Bokura no War Game!',\n",
              "       'Steamboy', 'Gintama Movie: Shinyaku Benizakura-hen', 'RDG: Red Data Girl', 'Inari, Konkon, Koi Iroha.', 'Sennen Joyuu', 'Noir', 'A-Channel',\n",
              "       'Mondaiji-tachi ga Isekai kara Kuru Sou Desu yo?: Onsen Manyuuki', 'Sekai Seifuku: Bouryaku no Zvezda', 'Inukami!', 'Ai Yori Aoshi: Enishi', 'Kono Minikuku mo Utsukushii Sekai',\n",
              "       'Hetalia World Series', 'Ghost in the Shell 2.0', 'Pokemon Diamond &amp; Pearl: Dialga vs. Palkia vs. Darkrai', 'Punch Line', 'Fractale', 'Strike Witches 2', 'Hakuouki Hekketsuroku',\n",
              "       'Pale Cocoon', 'Koe de Oshigoto! The Animation', 'Bishoujo Senshi Sailor Moon R: The Movie', 'Level E', '.hack//Roots', 'Full Moon wo Sagashite', 'Gakusen Toshi Asterisk 2nd Season',\n",
              "       'Fate/Prototype', 'Princess Tutu', 'SKET Dance', 'Aku no Hana', 'R-15'], dtype=object)"
            ]
          },
          "metadata": {},
          "execution_count": 31
        }
      ]
    },
    {
      "cell_type": "code",
      "metadata": {
        "colab": {
          "base_uri": "https://localhost:8080/"
        },
        "id": "Z0Wrj4fx6gnT",
        "outputId": "3f1f6cb5-65f8-4ae7-809b-e86e4d73ec92"
      },
      "source": [
        "anime_w = learn.model.weight(top_animes)\n",
        "anime_w.shape"
      ],
      "execution_count": null,
      "outputs": [
        {
          "output_type": "execute_result",
          "data": {
            "text/plain": [
              "torch.Size([1000, 40])"
            ]
          },
          "metadata": {},
          "execution_count": 32
        }
      ]
    },
    {
      "cell_type": "code",
      "metadata": {
        "colab": {
          "base_uri": "https://localhost:8080/"
        },
        "id": "E9iuM86k6bVk",
        "outputId": "709906e7-ba64-466e-b6c6-600b2a397bd6"
      },
      "source": [
        "anime_pca = anime_w.pca(2)\n",
        "fac0,fac1 = anime_pca.t()\n",
        "anime_comp = [(f, i) for f,i in zip(fac0, top_animes)]\n",
        "anime_pca.shape"
      ],
      "execution_count": null,
      "outputs": [
        {
          "output_type": "execute_result",
          "data": {
            "text/plain": [
              "torch.Size([1000, 2])"
            ]
          },
          "metadata": {},
          "execution_count": 33
        }
      ]
    },
    {
      "cell_type": "code",
      "metadata": {
        "colab": {
          "base_uri": "https://localhost:8080/",
          "height": 866
        },
        "id": "q1j6Ywt565ve",
        "cellView": "form",
        "outputId": "2fd57217-5fd1-4adf-9799-3eb5d7485056"
      },
      "source": [
        "#@title Embedding space of a subset of 100 movies.\n",
        "idxs = np.random.choice(len(top_animes), 100, replace=False)\n",
        "idxs = list(range(50))\n",
        "X = fac0[idxs]\n",
        "Y = fac1[idxs]\n",
        "plt.figure(figsize=(15,15))\n",
        "plt.scatter(X, Y)\n",
        "for i, x, y in zip(top_animes[idxs], X, Y):\n",
        "    plt.text(x,y,i, color=np.random.rand(3)*0.7, fontsize=11)\n",
        "plt.show()"
      ],
      "execution_count": null,
      "outputs": [
        {
          "output_type": "display_data",
          "data": {
            "image/png": "[encoded data removed]",
            "text/plain": [
              "<Figure size 1080x1080 with 1 Axes>"
            ]
          },
          "metadata": {
            "needs_background": "light"
          }
        }
      ]
    },
    {
      "cell_type": "code",
      "source": [
        "anime01 = 'Toradora!'"
      ],
      "metadata": {
        "id": "P1RjOkXTL-WY"
      },
      "execution_count": null,
      "outputs": []
    },
    {
      "cell_type": "code",
      "metadata": {
        "colab": {
          "base_uri": "https://localhost:8080/"
        },
        "id": "xOznP4iK7c9z",
        "outputId": "2d001992-081d-4f27-9b7c-c562de9a7fb7",
        "cellView": "form"
      },
      "source": [
        "#@title Top 5 most similar movies of target anime01.\n",
        "movie_factors = learn.model.i_weight.weight\n",
        "idx = dls.classes['name'].o2i[anime01]\n",
        "distances = nn.CosineSimilarity(dim=1)(movie_factors, movie_factors[idx][None])\n",
        "idx = distances.argsort(descending=True)[1:6]\n",
        "dls.classes['name'][idx]"
      ],
      "execution_count": null,
      "outputs": [
        {
          "output_type": "execute_result",
          "data": {
            "text/plain": [
              "(#5) ['Clannad: After Story','Angel Beats!','Clannad','K-On!','Kimi ni Todoke']"
            ]
          },
          "metadata": {},
          "execution_count": 49
        }
      ]
    },
    {
      "cell_type": "code",
      "source": [
        "anime02 = 'Clannad: After Story'"
      ],
      "metadata": {
        "id": "IgOxe2KMLbma"
      },
      "execution_count": null,
      "outputs": []
    },
    {
      "cell_type": "code",
      "source": [
        "#@title Top 5 most similar movies of target anime02.\n",
        "movie_factors = learn.model.i_weight.weight\n",
        "idx = dls.classes['name'].o2i[anime02]\n",
        "distances = nn.CosineSimilarity(dim=1)(movie_factors, movie_factors[idx][None])\n",
        "idx = distances.argsort(descending=True)[1:6]\n",
        "dls.classes['name'][idx]"
      ],
      "metadata": {
        "colab": {
          "base_uri": "https://localhost:8080/"
        },
        "cellView": "form",
        "id": "0oQCvOeCLbbc",
        "outputId": "8bdd2b12-ee38-4e16-83da-c1b3f95fd95a"
      },
      "execution_count": null,
      "outputs": [
        {
          "output_type": "execute_result",
          "data": {
            "text/plain": [
              "(#5) ['Toradora!','Darker than Black: Kuro no Keiyakusha','Code Geass: Hangyaku no Lelouch','Fullmetal Alchemist: Brotherhood','Clannad']"
            ]
          },
          "metadata": {},
          "execution_count": 51
        }
      ]
    },
    {
      "cell_type": "code",
      "source": [
        "anime03 = 'Clannad'"
      ],
      "metadata": {
        "id": "g0Gh7GlVNTzH"
      },
      "execution_count": null,
      "outputs": []
    },
    {
      "cell_type": "code",
      "source": [
        "#@title Top 5 most similar movies of target anime03.\n",
        "movie_factors = learn.model.i_weight.weight\n",
        "idx = dls.classes['name'].o2i[anime03]\n",
        "distances = nn.CosineSimilarity(dim=1)(movie_factors, movie_factors[idx][None])\n",
        "idx = distances.argsort(descending=True)[1:6]\n",
        "dls.classes['name'][idx]"
      ],
      "metadata": {
        "colab": {
          "base_uri": "https://localhost:8080/"
        },
        "outputId": "96a46c45-3974-4e0f-f538-b32d1969a05e",
        "cellView": "form",
        "id": "3bUCP0iNNvCU"
      },
      "execution_count": null,
      "outputs": [
        {
          "output_type": "execute_result",
          "data": {
            "text/plain": [
              "(#5) ['Toradora!','Clannad: After Story','K-On!','Angel Beats!','Code Geass: Hangyaku no Lelouch R2']"
            ]
          },
          "metadata": {},
          "execution_count": 53
        }
      ]
    }
  ]
}