{
  "cells": [
    {
      "cell_type": "markdown",
      "metadata": {
        "colab_type": "text",
        "id": "view-in-github"
      },
      "source": [
        "<a href=\"https://colab.research.google.com/github/unpackAI/DL101/blob/main/Intro_Week/00_Intro_Coursebook.ipynb\" target=\"_parent\"><img src=\"https://colab.research.google.com/assets/colab-badge.svg\" alt=\"Open In Colab\"/></a>"
      ]
    },
    {
      "cell_type": "markdown",
      "metadata": {
        "id": "GKwNJP4QeAga"
      },
      "source": [
        "# 🎉Welcome to the unpackAI AI Course for Business Professionals!\n",
        "\n",
        "**Congratulations** on being part of the unpackAI Bootcamp. We are super excited to learn and progress with you throughout the upcoming weeks. This course will put you ahead than 99% of the rest of the world in in AI. In the next 5 weeks we will dive into the main areas of ML applications (Computer Vision, Tabular Data, Recommender Systems, Natural Language Processing). In each area you will build your own model and understand what matters when it comes to building your own AI project.\n",
        "\n",
        "\n",
        "\n"
      ]
    },
    {
      "cell_type": "markdown",
      "metadata": {
        "id": "w_fS7_In_pvK"
      },
      "source": [
        "## 🏰AI Program Structure\n",
        "\n",
        "Below you can find out more about the entire Bootcamp structure divided into weeks. For every week we have a clear learning objective, paired with a class coursebook, and workbook. In total you will have to invest around 10 hours per week.\n",
        "\n",
        "\n",
        "|Week | Content | Learning Objectives|\n",
        "|:--- |:--- | :--- |\n",
        "|**0** | **Warm Up & Intro** | **Get to know more about your classmates, the mentors, and learn about the fundamental concepts of Machine Learning, how it works, its limitations, and potential.**\n",
        "|1 |Computer Vision | Dive into Computer Vision, and learn about how machines are able to derive insights and make predictions from visual data. Build your own computer vision application, by gathering your own images and train your own model.\n",
        "|2 |Predictive Analytics | Comprehend how AutoML can be applied to spreadsheet data such as sales, marketing, or customer data, and learn how to deduce actionable insights for the future, and build your own classification or regression application.\n",
        "|3 |Recommender Systems | Learn more about Recommender Systems, and understand how TikTok, Youtube, and Netflix are able to recommend your next favorite piece of content. Choose a dataset to build your own model to predict and recommend.\n",
        "|4 | Natural Language Processing (NLP) | Apply AI & Machine Learning to text, discover Language Models and go through the process of how an AI model is able to generate, summarize and classify text. Build your own NLP application to automatically generate movie reviews, or analyze sentiment."
      ]
    },
    {
      "cell_type": "markdown",
      "metadata": {
        "id": "vA2QAeinRvbS"
      },
      "source": [
        "### 📕 Learning Objectives of This Coursebook\n",
        "\n",
        "* Learn how to interact and use with Google Collab.\n",
        "* Dive into a brief introduction of neural networks and machine learning.\n",
        "* Build your first Image Classifier.\n"
      ]
    },
    {
      "cell_type": "markdown",
      "metadata": {
        "id": "0KTga5Rje_HD"
      },
      "source": [
        "## Introduction to Google Colab\n",
        "\n",
        "Colaboratory, or \"Colab\" for short, allows you to write and execute Python in your browser, with \n",
        "- Zero configuration required\n",
        "- Free access to GPUs\n",
        "- Easy sharing\n",
        "\n",
        "Whether you're a **student**, a **data scientist** or an **AI researcher**, Colab can make your work easier. Watch [Introduction to Colab](https://www.youtube.com/watch?v=inN8seMm7UI) to learn more, or just get started below!"
      ]
    },
    {
      "cell_type": "markdown",
      "metadata": {
        "id": "19QVrd8dzQ9w"
      },
      "source": [
        "### Getting started\n",
        "\n",
        "The document you are reading is not a static web page, but an interactive environment called a **Colab notebook** that lets you write and execute code.\n",
        "\n",
        "For example, here is a **code cell** with a short Python script that computes a value, stores it in a variable, and prints the result:"
      ]
    },
    {
      "cell_type": "code",
      "execution_count": 1,
      "metadata": {
        "colab": {
          "base_uri": "https://localhost:8080/"
        },
        "id": "-eYy5BgXc9B_",
        "outputId": "eaa34bcb-7332-4281-fedc-dc21ef4fc3f3"
      },
      "outputs": [
        {
          "data": {
            "text/plain": [
              "2"
            ]
          },
          "execution_count": 1,
          "metadata": {},
          "output_type": "execute_result"
        }
      ],
      "source": [
        " 1+1"
      ]
    },
    {
      "cell_type": "markdown",
      "metadata": {
        "id": "Gt7jI9gPdJL0"
      },
      "source": [
        "To execute the code in the above cell, select it with a click and then either:\n",
        "\n",
        "* press the play button to the left of the code (the little triangle ▶️)\n",
        "* Use the keyboard shortcut <kbd>Ctrl</kbd> + <kbd>Enter</kbd> (for Windows) or <kbd>Command</kbd> + <kbd>Enter</kbd> (for Mac).\n",
        "* Use the keyboard shortcut <kbd>Shift</kbd> + <kbd>Enter</kbd> to execute and move to the next cell\n",
        "\n",
        "To edit the code, just click the cell and start editing.\n",
        "\n",
        "Variables that you define in one cell can later be used in other cells:"
      ]
    },
    {
      "cell_type": "code",
      "execution_count": 2,
      "metadata": {
        "id": "nuo4HjExpOj9"
      },
      "outputs": [],
      "source": [
        "seconds_in_a_day = 86400\n",
        "seconds_in_a_week = 7 * seconds_in_a_day"
      ]
    },
    {
      "cell_type": "code",
      "execution_count": 3,
      "metadata": {
        "colab": {
          "base_uri": "https://localhost:8080/"
        },
        "id": "1rIWAIdDdTlF",
        "outputId": "3aeac444-087a-4374-afd0-5acb6f91121c"
      },
      "outputs": [
        {
          "data": {
            "text/plain": [
              "604800"
            ]
          },
          "execution_count": 3,
          "metadata": {},
          "output_type": "execute_result"
        }
      ],
      "source": [
        "seconds_in_a_week"
      ]
    },
    {
      "cell_type": "markdown",
      "metadata": {
        "id": "sobzvYOYdX7I"
      },
      "source": [
        "Colab notebooks allow you to combine **executable code** and **rich text** in a single document, along with **images**, **HTML**, **LaTeX** and more. When you create your own Colab notebooks, they are stored in your Google Drive account. You can easily share your Colab notebooks with co-workers or friends, allowing them to comment on your notebooks or even edit them. To learn more, see [Overview of Colab](/notebooks/basic_features_overview.ipynb). To create a new Colab notebook you can use the File menu above, or use the following link: [create a new Colab notebook](http://colab.research.google.com#create=true).\n",
        "\n",
        "Colab notebooks are Jupyter notebooks that are hosted by Colab on Google Cloud. To learn more about the Jupyter project, see [jupyter.org](https://www.jupyter.org)."
      ]
    },
    {
      "cell_type": "markdown",
      "metadata": {
        "id": "nVwF2a3aiPz6"
      },
      "source": [
        "#### Some useful tricks that are absolutely important for a better Google Colab experience"
      ]
    },
    {
      "cell_type": "markdown",
      "metadata": {
        "id": "OJNlG2glitD_"
      },
      "source": [
        "##### **1. Save time with keyboard shortcuts**\n",
        "\n",
        "You can access all the shortcuts selecting ***“Tools” → “Keyboard Shortcuts”***.\n",
        "\n",
        "![image.png](data:image/png;base64,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)"
      ]
    },
    {
      "cell_type": "markdown",
      "metadata": {
        "id": "05ueachzmSdm"
      },
      "source": [
        "##### **2. Activate your GPU**\n",
        "\n",
        "The default hardware of Google Colab is CPU. Though in order to train computationally heavy Deep Learning models, you need to utilize GPU hardware which is **free** up to 12 hours of non-stop model training. \n",
        "\n",
        "Click on: ***“Runtime” → “Change runtime type” → “Hardware accelerator”***. Then select the desired hardware.\n",
        "\n",
        "*In the content below, we will dive into why a GPU is important.*\n",
        "\n",
        "![image.png](https://dl.dropboxusercontent.com/s/klwi5m49m9gpvax/gpu_choose.png)\n",
        "\n",
        "You can easily check if the GPU is enabled by executing the following code (if it returns ' ' your GPU is not enabled):"
      ]
    },
    {
      "cell_type": "code",
      "execution_count": 4,
      "metadata": {
        "colab": {
          "base_uri": "https://localhost:8080/",
          "height": 35
        },
        "id": "cVavrluPhDoJ",
        "outputId": "4a0d51ed-00bb-4873-cfa3-500d63dcd60d"
      },
      "outputs": [
        {
          "data": {
            "application/vnd.google.colaboratory.intrinsic+json": {
              "type": "string"
            },
            "text/plain": [
              "'/device:GPU:0'"
            ]
          },
          "execution_count": 4,
          "metadata": {},
          "output_type": "execute_result"
        }
      ],
      "source": [
        "import tensorflow as tf\n",
        "tf.test.gpu_device_name()"
      ]
    },
    {
      "cell_type": "markdown",
      "metadata": {
        "id": "kqJ-hYJd_QYq"
      },
      "source": [
        "##### **3. Open the table of contents**\n",
        "\n",
        "Click on the **Table of contents** indicated by the three-lines symbol on the left to see the entire Content. "
      ]
    },
    {
      "cell_type": "code",
      "execution_count": 4,
      "metadata": {
        "id": "3cBG-gOol5oO"
      },
      "outputs": [],
      "source": []
    },
    {
      "cell_type": "markdown",
      "metadata": {
        "id": "ImCgTul2kLxI"
      },
      "source": [
        "##### **4. Light or Dark**\n",
        "\n",
        "If you prefer, you can change Google Colab to dark theme.\n",
        "\n",
        "Go to ***Tools → Settings → Site*** and under **Theme**, pick **dark**."
      ]
    },
    {
      "cell_type": "markdown",
      "metadata": {
        "id": "IXusOliam7bv"
      },
      "source": [
        "## AI & Machine Learning - The Theory everyone needs to know."
      ]
    },
    {
      "cell_type": "markdown",
      "metadata": {
        "id": "LlsE7_lIGBTO"
      },
      "source": [
        "In this coursebook, we will cover the theoretical foundation that you will need to pratically dive into AI & Machine Learning.\n",
        "\n",
        "We will be utilizing the materials of [fast.ai](https://course.fast.ai/), [HuggingFace](https://huggingface.co/), other leading libraries and sources and own content that we adopted to further make AI & Machine Learning education more accessible to everyone."
      ]
    },
    {
      "cell_type": "markdown",
      "metadata": {
        "id": "yQeqLDB6972b"
      },
      "source": [
        "### AI is for Everyone"
      ]
    },
    {
      "cell_type": "markdown",
      "metadata": {
        "id": "em0u5qMa9_B3"
      },
      "source": [
        "It is the general assumptions that its very difficult to make use of AI. However, that is not true. Even you will be able to make use of AI in a quick amount of time. In the table below, you can find what is definitely not needed when intending to build an AI application.\n",
        "\n",
        "\n",
        "Myth (don't need) | Truth \n",
        "--- | --- \n",
        "Lots of math | Just high school math is sufficient\n",
        "Lots of data | We've seen record-breaking results with < 50 items of data\n",
        "Lots of expensive computers | You can get what you need for state of the art work for free"
      ]
    },
    {
      "cell_type": "markdown",
      "metadata": {
        "id": "5DiifUalBjsR"
      },
      "source": [
        "### What is Artificial Intelligence (AI)?"
      ]
    },
    {
      "cell_type": "markdown",
      "metadata": {
        "id": "wCsL6xuzTayI"
      },
      "source": [
        "Artificial intelligence is the simulation of human intelligence processes by machines. At its simplest form, artificial intelligence is a field, which combines computer science and robust datasets, to enable problem-solving.\n",
        "\n",
        "Humans uilize AI to ease, improve or entirely outsource decision-making through the computational power that machines can offer.\n",
        "\n",
        "You can see that AI is a very general field and both Machine Learning (ML) and Deep Learning (DL) are sub-fields of artificial intelligence. Both have experienced recent breakthroughs and have become the most promosing fields in AI. Thus, we will be focussing on those two fields.\n",
        "\n",
        "<img src=\"https://www.dropbox.com/s/beyb9suv0no70m9/AI%3AML%3ADL.png?dl=1\" alt=\"Differentiation\" width=\"500\"/>"
      ]
    },
    {
      "cell_type": "markdown",
      "metadata": {
        "id": "3C-uj-2XBmNo"
      },
      "source": [
        "### What is Machine Learning (ML)?"
      ]
    },
    {
      "cell_type": "markdown",
      "metadata": {
        "id": "0wkMLGzPYNEQ"
      },
      "source": [
        "Machine learning is a branch of artificial intelligence (AI) and computer science which focuses on the use of data and algorithms to imitate the way that humans learn, gradually improving its accuracy.\n",
        "\n",
        "The process of learning begins with observations or data, such as examples, direct experience, or instruction, in order to look for patterns in data and make better decisions in the future based on the examples that we provide. The primary aim is to allow the computers learn automatically without human intervention or assistance and adjust actions accordingly.\n",
        "\n",
        "This allows us to move away from rule-based systems, where every scenario has to be pre-defined and linked to an action. An independent system, that becomes \"smarter\" the more data it has access to and can make predictions or decisions without being explicitly programmed to do so is extremely powerful in our digital age.\n",
        "\n",
        "Within Machine Learning there are two basic approaches for a machine to \"learn\" from data. These two approaches are called **supervised learning** and **unsupervised learning**.\n",
        "\n",
        "* **Supervised Learning**: Supervised learning is a machine learning approach that’s defined by its use of labeled datasets. That means that for every data input we also provide the result/output for the program to compare its prediction with the actual result to adjust itself. Using labeled inputs and outputs, the model can measure its accuracy and learn over time.\n",
        "\n",
        ">*Example: A program that receives an image of a piece of clothing as an input, and is expected to predict what type of clothes (i.e. t-shirt, shoes etc.) it is. It was trained on a labeled dataset of clothing images that tell the model which photos were t-shirts, shoes, jackets etc.*\n",
        "\n",
        "* **Unsupervised Learning**: Unsupervised learning uses machine learning algorithms to analyze and cluster *unlabeled* data sets. These algorithms discover hidden patterns in data without the need for human intervention (hence, they are “unsupervised”).\n",
        "\n",
        "> *Example: A program that receives an unlabeled dataset of clothing images and is expected to find patterns within the images. Being unsupervised, it can find patterns in various images that ultimately represent a shoe, jacket, etc.*\n",
        "\n",
        "*The difference between the will become more clear over the next weeks, when we will work with supervised and unsupervised machine learning applications.*\n",
        "\n",
        "<img src=\"https://www.dropbox.com/s/q5w7kqamhh2wtli/supervised%3Aunsupervised.png?dl=1\" alt=\"Differentiation\" width=\"700\"/>"
      ]
    },
    {
      "cell_type": "markdown",
      "metadata": {
        "id": "jO9EAI4pj1Ds"
      },
      "source": [
        "### What is Deep Learning (DL)?"
      ]
    },
    {
      "cell_type": "markdown",
      "metadata": {
        "id": "eqxBJJ3tzp1r"
      },
      "source": [
        "Deep learning is a subset of machine learning that utilizes computing systems called **neural networks** to learn and find patterns from data to perform tasks at high accuracy.\n",
        "\n"
      ]
    },
    {
      "cell_type": "markdown",
      "metadata": {
        "id": "fXcBPqGX0pwl"
      },
      "source": [
        "#### What are Neural Networks?"
      ]
    },
    {
      "cell_type": "markdown",
      "metadata": {
        "id": "B0SQQxMU7Wwg"
      },
      "source": [
        "A neural network is a series of algorithms that process data and are able to flexibly adjust themselves to achieve the highest accuracy. Their name and structure are inspired by the human brain, mimicking the way that biological neurons signal to one another.\n",
        "\n",
        "In a neural network a \"neuron\" is a node, a computational unit that can process data. Each node has an associated weight, a parameter can flexibly change based on the incoming data which will also impact the entire network as a result. The entire network optimises itself to achieve better results.\n",
        "\n",
        "A neural consists of at least 3 layers:\n",
        "\n",
        "1. The **input layer** brings the initial data into the system for further processing by subsequent layers.\n",
        "2. The **hidden layer** is located between the input and output layer, and applies weights to the inputs and directs them to the output.\n",
        "3. The **output layer** is responsible for producing the final result. The output layer takes in the inputs which are passed in from the layer before it, and computes a decision out of the series of inputs.\n",
        "\n",
        "Data is passed through the neural network multiple times.\n",
        "\n",
        "\n",
        "<img src=\"https://www.dropbox.com/s/h7yajaalmlnr0st/neuralnetwork.webp?dl=1\" alt=\"Differentiation\" width=\"700\"/>"
      ]
    },
    {
      "cell_type": "markdown",
      "metadata": {
        "id": "FJqBVeYBefhX"
      },
      "source": [
        "#### What is a GPU?"
      ]
    },
    {
      "cell_type": "markdown",
      "metadata": {
        "id": "u8tQ3Fj-efhX"
      },
      "source": [
        "A **Graphics Processing Unit (GPU)**, Also known as a _graphics card_ is a processing unit that is being used when running your neural network and training your models.\n",
        "\n",
        "It is a special kind of processor in your computer that can handle thousands of single tasks at the same time, especially designed for displaying 3D environments on a computer for playing games. These same basic tasks are very similar to what neural networks do, such that GPUs can run neural networks hundreds of times faster than regular CPUs. All modern computers contain a GPU, but few contain the right kind of GPU necessary for deep learning.\n",
        "\n",
        "In this Bootcamp, we will utilize the free GPU resources provided by Colab."
      ]
    },
    {
      "cell_type": "markdown",
      "metadata": {
        "id": "x9tMf4rwCL7P"
      },
      "source": [
        "### Areas of Application"
      ]
    },
    {
      "cell_type": "markdown",
      "metadata": {
        "id": "9IyWD8yG-C9q"
      },
      "source": [
        "Within this Bootcamp we will dive into the 4 main applications of Machine & Deep Learning. In each field, there are many possibilities how to apply the technology to solve problems.\n",
        "\n",
        "|Field |Definition | Tasks |\n",
        "|:---| :---  | :--- |\n",
        "Computer vision| Enable computers and systems to derive meaningful information from digital images, videos and other visual inputs. |Satellite and drone imagery interpretation (e.g., for disaster resilience); face recognition; image captioning; reading traffic signs; locating pedestrians and vehicles in autonomous vehicles\n",
        "Tabular Data|Tabular data is data that is structured into rows, each of which contains information about some thing. |Sales Forecasting, Customer Purchasing Predictions, Churn Prediction, Marketing Budget Optimization\n",
        "Recommendation systems|Algorithms aimed at suggesting relevant items to users. |Web search; product recommendations; home page layout\n",
        "Natural language processing (NLP)|Machines that understand and respond to text or voice data in much the same way humans do. |Answering questions; speech recognition; summarizing documents; classifying documents; finding names, dates, etc. in documents; searching for articles mentioning a concept\n",
        "\n",
        "Computer Vision & Natural Language Processing in particular are two fields that received the most attention when utilizing deep learning.\n",
        "\n",
        "Let's jump into some practice and train our first model."
      ]
    },
    {
      "cell_type": "markdown",
      "metadata": {
        "id": "x-jEIAFgefhW"
      },
      "source": [
        "### Your First Deep Learning Model"
      ]
    },
    {
      "cell_type": "markdown",
      "metadata": {
        "id": "0dVvlM7DefhW"
      },
      "source": [
        "As we said before, we will teach you how to do things before we explain why they work. Following this top-down approach, we will begin by actually training an image classifier to recognize dogs and cats with almost 100% accuracy. To train this model and run our experiments, you will need to do some initial setup. Don't worry, it's not as hard as it looks.\n",
        "\n",
        "**An image classifier is a Computer Vision Task that uses a supervised learning approach to predict the class (i.e. Cat or Dog) of an image.**"
      ]
    },
    {
      "cell_type": "markdown",
      "metadata": {
        "id": "7uezPIteefhY"
      },
      "source": [
        "In order to run our own model, we'll be downloading a _dataset_ of dog and cat photos, and using that to _train a model_. A dataset is simply a bunch of data—it could be images, emails, financial indicators, sounds, or anything else. There are many datasets made freely available that are suitable for training models. Many of these datasets are created by academics to help advance research, many are made available for competitions (there are competitions where data scientists can compete to see who has the most accurate model!), and some are by-products of other processes (such as financial filings)."
      ]
    },
    {
      "cell_type": "markdown",
      "metadata": {
        "id": "X9DNwNgT1Fcq"
      },
      "source": [
        "In our case, the dataset is called the [Oxford-IIIT Pet Dataset](http://www.robots.ox.ac.uk/~vgg/data/pets/) that contains 7,349 images of cats and dogs from 37 different breeds will be downloaded from the fast.ai datasets collection to the GPU server you are using, and will then be extracted.\n",
        "\n",
        "Please run all code cells below as well."
      ]
    },
    {
      "cell_type": "code",
      "execution_count": 5,
      "metadata": {
        "cellView": "form",
        "colab": {
          "base_uri": "https://localhost:8080/"
        },
        "id": "Bja9JEWiefhF",
        "outputId": "976731e6-14d2-47ef-fc7e-0d0718f8487e"
      },
      "outputs": [
        {
          "name": "stdout",
          "output_type": "stream",
          "text": [
            "\u001b[K     |████████████████████████████████| 720 kB 8.4 MB/s \n",
            "\u001b[K     |████████████████████████████████| 188 kB 85.8 MB/s \n",
            "\u001b[K     |████████████████████████████████| 1.2 MB 58.9 MB/s \n",
            "\u001b[K     |████████████████████████████████| 60 kB 9.4 MB/s \n",
            "\u001b[?25h"
          ]
        }
      ],
      "source": [
        "#@title Run this cell to install relevant libraries\n",
        "!pip install -Uqq fastbook\n",
        "!pip install folium==0.2.1\n",
        "!pip install fastai -Uqq --upgrade\n",
        "\n",
        "from fastbook import *\n",
        "from fastai.vision.all import *\n",
        "\n",
        "#import fastbook\n",
        "#fastbook.setup_book()"
      ]
    },
    {
      "cell_type": "markdown",
      "metadata": {
        "id": "WE6APoowG4K4"
      },
      "source": [
        "Lets now download our dataset that we have described above. Don't worry, the dataset will not be permanently be saved on your computer."
      ]
    },
    {
      "cell_type": "code",
      "execution_count": 6,
      "metadata": {
        "colab": {
          "base_uri": "https://localhost:8080/",
          "height": 37
        },
        "id": "DBsuA8Kwy9pU",
        "outputId": "5d41d1dc-3531-42ae-9604-65aaa1d942fb"
      },
      "outputs": [
        {
          "data": {
            "text/html": [
              "\n",
              "<style>\n",
              "    /* Turns off some styling */\n",
              "    progress {\n",
              "        /* gets rid of default border in Firefox and Opera. */\n",
              "        border: none;\n",
              "        /* Needs to be in here for Safari polyfill so background images work as expected. */\n",
              "        background-size: auto;\n",
              "    }\n",
              "    .progress-bar-interrupted, .progress-bar-interrupted::-webkit-progress-bar {\n",
              "        background: #F44336;\n",
              "    }\n",
              "</style>\n"
            ],
            "text/plain": [
              "<IPython.core.display.HTML object>"
            ]
          },
          "metadata": {},
          "output_type": "display_data"
        },
        {
          "data": {
            "text/html": [
              "\n",
              "    <div>\n",
              "      <progress value='811712512' class='' max='811706944' style='width:300px; height:20px; vertical-align: middle;'></progress>\n",
              "      100.00% [811712512/811706944 00:17<00:00]\n",
              "    </div>\n",
              "    "
            ],
            "text/plain": [
              "<IPython.core.display.HTML object>"
            ]
          },
          "metadata": {},
          "output_type": "display_data"
        }
      ],
      "source": [
        "path = untar_data(URLs.PETS)/'images'"
      ]
    },
    {
      "cell_type": "markdown",
      "metadata": {
        "id": "UVx9_uKRHKSG"
      },
      "source": [
        "After downloading a dataset full of images, we will now have to prepare the data in a way that we can \"feed\" it to our model. Please run the cell below!"
      ]
    },
    {
      "cell_type": "code",
      "execution_count": 7,
      "metadata": {
        "cellView": "form",
        "id": "OW069T8tefhZ"
      },
      "outputs": [],
      "source": [
        "#@title Run this cell to prepare images to load the data into our model. As the result we will get a DataLoader.\n",
        "def is_dog(x): return x[0].islower()\n",
        "dls = ImageDataLoaders.from_name_func(\n",
        "    path, get_image_files(path), valid_pct=0.2, seed=42,\n",
        "    label_func=is_dog, item_tfms=Resize(224))\n",
        "\n"
      ]
    },
    {
      "cell_type": "markdown",
      "metadata": {
        "id": "eMZJyXShHWgt"
      },
      "source": [
        "Lets finally train our model. If you observe the code below you will be able to see `dls`, `resnet34` and `accuracy`.\n",
        "\n",
        "**`dls`**: We packaged all our processed data into our \"DataLoader\" for which we use the shortcut `dls`.\n",
        "\n",
        "**`resnet34`**: Resnet is a type of neural network that is pre-built and that we can easily use. The \"34\" stands for the amount of total layers the neural network has.\n",
        "\n",
        "**`accuracy`**: The `accuracy` is our defined metric to observe the performance of our model."
      ]
    },
    {
      "cell_type": "code",
      "execution_count": 11,
      "metadata": {
        "colab": {
          "base_uri": "https://localhost:8080/",
          "height": 145
        },
        "id": "jntR8e4A2oJw",
        "outputId": "1f0a2337-eae2-42d0-ca20-5391fe949794"
      },
      "outputs": [
        {
          "data": {
            "text/html": [
              "\n",
              "<style>\n",
              "    /* Turns off some styling */\n",
              "    progress {\n",
              "        /* gets rid of default border in Firefox and Opera. */\n",
              "        border: none;\n",
              "        /* Needs to be in here for Safari polyfill so background images work as expected. */\n",
              "        background-size: auto;\n",
              "    }\n",
              "    .progress-bar-interrupted, .progress-bar-interrupted::-webkit-progress-bar {\n",
              "        background: #F44336;\n",
              "    }\n",
              "</style>\n"
            ],
            "text/plain": [
              "<IPython.core.display.HTML object>"
            ]
          },
          "metadata": {},
          "output_type": "display_data"
        },
        {
          "data": {
            "text/html": [
              "<table border=\"1\" class=\"dataframe\">\n",
              "  <thead>\n",
              "    <tr style=\"text-align: left;\">\n",
              "      <th>epoch</th>\n",
              "      <th>train_loss</th>\n",
              "      <th>valid_loss</th>\n",
              "      <th>accuracy</th>\n",
              "      <th>time</th>\n",
              "    </tr>\n",
              "  </thead>\n",
              "  <tbody>\n",
              "    <tr>\n",
              "      <td>0</td>\n",
              "      <td>0.132483</td>\n",
              "      <td>0.023576</td>\n",
              "      <td>0.993911</td>\n",
              "      <td>00:53</td>\n",
              "    </tr>\n",
              "  </tbody>\n",
              "</table>"
            ],
            "text/plain": [
              "<IPython.core.display.HTML object>"
            ]
          },
          "metadata": {},
          "output_type": "display_data"
        },
        {
          "data": {
            "text/html": [
              "\n",
              "<style>\n",
              "    /* Turns off some styling */\n",
              "    progress {\n",
              "        /* gets rid of default border in Firefox and Opera. */\n",
              "        border: none;\n",
              "        /* Needs to be in here for Safari polyfill so background images work as expected. */\n",
              "        background-size: auto;\n",
              "    }\n",
              "    .progress-bar-interrupted, .progress-bar-interrupted::-webkit-progress-bar {\n",
              "        background: #F44336;\n",
              "    }\n",
              "</style>\n"
            ],
            "text/plain": [
              "<IPython.core.display.HTML object>"
            ]
          },
          "metadata": {},
          "output_type": "display_data"
        },
        {
          "data": {
            "text/html": [
              "<table border=\"1\" class=\"dataframe\">\n",
              "  <thead>\n",
              "    <tr style=\"text-align: left;\">\n",
              "      <th>epoch</th>\n",
              "      <th>train_loss</th>\n",
              "      <th>valid_loss</th>\n",
              "      <th>accuracy</th>\n",
              "      <th>time</th>\n",
              "    </tr>\n",
              "  </thead>\n",
              "  <tbody>\n",
              "    <tr>\n",
              "      <td>0</td>\n",
              "      <td>0.063683</td>\n",
              "      <td>0.011065</td>\n",
              "      <td>0.996617</td>\n",
              "      <td>01:01</td>\n",
              "    </tr>\n",
              "  </tbody>\n",
              "</table>"
            ],
            "text/plain": [
              "<IPython.core.display.HTML object>"
            ]
          },
          "metadata": {},
          "output_type": "display_data"
        }
      ],
      "source": [
        "learn = vision_learner(dls, resnet34, metrics=accuracy)\n",
        "learn.fine_tune(1)"
      ]
    },
    {
      "cell_type": "markdown",
      "metadata": {
        "id": "L9M5W0U0efha"
      },
      "source": [
        "Wow! We have achieved an `accuracy` of 99.67% just in one training cycle (***epoch***).\n",
        "\n",
        "But, how do we know if this model is any good? The error rate calculates, which is the proportion of images that were incorrectly identified. The error rate serves as our metric—our measure of model quality, chosen to be intuitive and comprehensible. As you can see, the model is nearly perfect, even though the training time was very short. In fact, the accuracy you've achieved already is far better than anybody had ever achieved just 10 years ago!\n",
        "\n",
        "Finally, let's check that this model actually works. Go and get a photo of a dog, or a cat; if you don't have one handy, just search Google Images and download an image that you find there. \n",
        "\n",
        "Now execute the cell with `uploader` defined. It will output a button: click on it, select the image you want to classify, and it will be uploaded."
      ]
    },
    {
      "cell_type": "code",
      "execution_count": 9,
      "metadata": {
        "colab": {
          "base_uri": "https://localhost:8080/",
          "height": 49,
          "referenced_widgets": [
            "7f520c38f2f04c419f24de5534d0db23",
            "d404aa67ce7d4fff94efa6d5785b05a5",
            "95973d5d9df246aa82f7c10b40328493"
          ]
        },
        "id": "X-sesq4gefhd",
        "outputId": "dca1ded7-1b2b-4b2a-d0ff-381c65c1d1a8"
      },
      "outputs": [
        {
          "data": {
            "application/vnd.jupyter.widget-view+json": {
              "model_id": "7f520c38f2f04c419f24de5534d0db23",
              "version_major": 2,
              "version_minor": 0
            },
            "text/plain": [
              "FileUpload(value={}, description='Upload')"
            ]
          },
          "metadata": {},
          "output_type": "display_data"
        }
      ],
      "source": [
        "# Upload an image from your computer\n",
        "uploader = widgets.FileUpload()\n",
        "uploader"
      ]
    },
    {
      "cell_type": "markdown",
      "metadata": {
        "id": "qb-c1sD2JteI"
      },
      "source": [
        "If you have correctly uploaded an image above, you should be able to see it below."
      ]
    },
    {
      "cell_type": "code",
      "execution_count": 12,
      "metadata": {
        "colab": {
          "base_uri": "https://localhost:8080/",
          "height": 292
        },
        "id": "4sY9FZCq6M7L",
        "outputId": "c7f2b712-ba3b-4ea6-8920-93a6de080963"
      },
      "outputs": [
        {
          "data": {
            "image/png": "[encoded data removed]",
            "text/plain": [
              "PILImage mode=RGB size=183x275"
            ]
          },
          "execution_count": 12,
          "metadata": {},
          "output_type": "execute_result"
        }
      ],
      "source": [
        "img = PILImage.create(uploader.data[0])\n",
        "img"
      ]
    },
    {
      "cell_type": "markdown",
      "metadata": {
        "id": "yy1CLXkdJy0r"
      },
      "source": [
        "Let's now use our trained model to predict if our uploaded image is a cat or a dog?"
      ]
    },
    {
      "cell_type": "code",
      "execution_count": 13,
      "metadata": {
        "colab": {
          "base_uri": "https://localhost:8080/",
          "height": 52
        },
        "id": "Wu_3ppSdefhe",
        "outputId": "8b08e19d-7e9b-46fc-8940-a953d95f6e9b"
      },
      "outputs": [
        {
          "data": {
            "text/html": [
              "\n",
              "<style>\n",
              "    /* Turns off some styling */\n",
              "    progress {\n",
              "        /* gets rid of default border in Firefox and Opera. */\n",
              "        border: none;\n",
              "        /* Needs to be in here for Safari polyfill so background images work as expected. */\n",
              "        background-size: auto;\n",
              "    }\n",
              "    .progress-bar-interrupted, .progress-bar-interrupted::-webkit-progress-bar {\n",
              "        background: #F44336;\n",
              "    }\n",
              "</style>\n"
            ],
            "text/plain": [
              "<IPython.core.display.HTML object>"
            ]
          },
          "metadata": {},
          "output_type": "display_data"
        },
        {
          "data": {
            "text/html": [],
            "text/plain": [
              "<IPython.core.display.HTML object>"
            ]
          },
          "metadata": {},
          "output_type": "display_data"
        },
        {
          "name": "stdout",
          "output_type": "stream",
          "text": [
            "Probability it's a dog: 1.000000\n",
            "probability it's a cat: 0.000000\n"
          ]
        }
      ],
      "source": [
        "is_dog, _, probs = learn.predict(img)\n",
        "#print(f\"Is this a dog?: {is_dog}.\")\n",
        "print(f\"Probability it's a dog: {probs[1].item():.6f}\")\n",
        "print(f\"probability it's a cat: {probs[0].item():.6f}\")"
      ]
    },
    {
      "cell_type": "markdown",
      "metadata": {
        "id": "VfYXh4I4efhe"
      },
      "source": [
        "Congratulations on your first classifier!\n",
        "\n",
        "But what does this mean? What did you actually do? In order to explain this, let's zoom out again to take in the big picture. "
      ]
    },
    {
      "cell_type": "markdown",
      "metadata": {
        "id": "Rg5XcjutNI5X"
      },
      "source": [
        "### What did my model do?"
      ]
    },
    {
      "cell_type": "code",
      "execution_count": 14,
      "metadata": {
        "colab": {
          "base_uri": "https://localhost:8080/",
          "height": 200
        },
        "hide_input": true,
        "id": "fGBQ7I7Sefhj",
        "outputId": "d4a2376b-ceb7-4113-9d37-788faa05df26"
      },
      "outputs": [
        {
          "data": {
            "image/svg+xml": "<?xml version=\"1.0\" encoding=\"UTF-8\" standalone=\"no\"?>\n<!DOCTYPE svg PUBLIC \"-//W3C//DTD SVG 1.1//EN\"\n \"http://www.w3.org/Graphics/SVG/1.1/DTD/svg11.dtd\">\n<!-- Generated by graphviz version 2.40.1 (20161225.0304)\n -->\n<!-- Title: G Pages: 1 -->\n<svg width=\"531pt\" height=\"134pt\"\n viewBox=\"0.00 0.00 530.58 134.50\" xmlns=\"http://www.w3.org/2000/svg\" xmlns:xlink=\"http://www.w3.org/1999/xlink\">\n<g id=\"graph0\" class=\"graph\" transform=\"scale(1 1) rotate(0) translate(4 130.497)\">\n<title>G</title>\n<polygon fill=\"#ffffff\" stroke=\"transparent\" points=\"-4,4 -4,-130.497 526.5848,-130.497 526.5848,4 -4,4\"/>\n<!-- model -->\n<g id=\"node1\" class=\"node\">\n<title>model</title>\n<polygon fill=\"none\" stroke=\"#000000\" points=\"290.594,-79.497 108.594,-79.497 104.594,-75.497 104.594,-29.497 286.594,-29.497 290.594,-33.497 290.594,-79.497\"/>\n<polyline fill=\"none\" stroke=\"#000000\" points=\"286.594,-75.497 104.594,-75.497 \"/>\n<polyline fill=\"none\" stroke=\"#000000\" points=\"286.594,-75.497 286.594,-29.497 \"/>\n<polyline fill=\"none\" stroke=\"#000000\" points=\"286.594,-75.497 290.594,-79.497 \"/>\n<text text-anchor=\"middle\" x=\"197.594\" y=\"-50.797\" font-family=\"Times,serif\" font-size=\"14.00\" fill=\"#000000\">Neural Network + Parameters</text>\n</g>\n<!-- predictions -->\n<g id=\"node3\" class=\"node\">\n<title>predictions</title>\n<ellipse fill=\"none\" stroke=\"#000000\" cx=\"379.5894\" cy=\"-54.497\" rx=\"51.9908\" ry=\"18\"/>\n<text text-anchor=\"middle\" x=\"379.5894\" y=\"-50.797\" font-family=\"Times,serif\" font-size=\"14.00\" fill=\"#000000\">predictions</text>\n</g>\n<!-- model&#45;&gt;predictions -->\n<g id=\"edge2\" class=\"edge\">\n<title>model&#45;&gt;predictions</title>\n<path fill=\"none\" stroke=\"#000000\" d=\"M290.7243,-54.497C299.6775,-54.497 308.6032,-54.497 317.1544,-54.497\"/>\n<polygon fill=\"#000000\" stroke=\"#000000\" points=\"317.3759,-57.9971 327.3759,-54.497 317.3758,-50.9971 317.3759,-57.9971\"/>\n</g>\n<!-- inputs -->\n<g id=\"node2\" class=\"node\">\n<title>inputs</title>\n<ellipse fill=\"none\" stroke=\"#000000\" cx=\"33.797\" cy=\"-54.497\" rx=\"33.5952\" ry=\"18\"/>\n<text text-anchor=\"middle\" x=\"33.797\" y=\"-50.797\" font-family=\"Times,serif\" font-size=\"14.00\" fill=\"#000000\">inputs</text>\n</g>\n<!-- inputs&#45;&gt;model -->\n<g id=\"edge1\" class=\"edge\">\n<title>inputs&#45;&gt;model</title>\n<path fill=\"none\" stroke=\"#000000\" d=\"M67.7358,-54.497C75.8728,-54.497 84.9851,-54.497 94.5077,-54.497\"/>\n<polygon fill=\"#000000\" stroke=\"#000000\" points=\"94.5561,-57.9971 104.5561,-54.497 94.5561,-50.9971 94.5561,-57.9971\"/>\n</g>\n<!-- loss -->\n<g id=\"node5\" class=\"node\">\n<title>loss</title>\n<ellipse fill=\"none\" stroke=\"#000000\" cx=\"495.5848\" cy=\"-81.497\" rx=\"27\" ry=\"18\"/>\n<text text-anchor=\"middle\" x=\"495.5848\" y=\"-77.797\" font-family=\"Times,serif\" font-size=\"14.00\" fill=\"#000000\">loss</text>\n</g>\n<!-- predictions&#45;&gt;loss -->\n<g id=\"edge4\" class=\"edge\">\n<title>predictions&#45;&gt;loss</title>\n<path fill=\"none\" stroke=\"#000000\" d=\"M422.7818,-64.5508C435.0372,-67.4035 448.2379,-70.4762 459.9889,-73.2114\"/>\n<polygon fill=\"#000000\" stroke=\"#000000\" points=\"459.349,-76.656 469.8821,-75.5143 460.936,-69.8383 459.349,-76.656\"/>\n</g>\n<!-- labels -->\n<g id=\"node4\" class=\"node\">\n<title>labels</title>\n<ellipse fill=\"none\" stroke=\"#000000\" cx=\"379.5894\" cy=\"-108.497\" rx=\"31.6951\" ry=\"18\"/>\n<text text-anchor=\"middle\" x=\"379.5894\" y=\"-104.797\" font-family=\"Times,serif\" font-size=\"14.00\" fill=\"#000000\">labels</text>\n</g>\n<!-- labels&#45;&gt;loss -->\n<g id=\"edge3\" class=\"edge\">\n<title>labels&#45;&gt;loss</title>\n<path fill=\"none\" stroke=\"#000000\" d=\"M409.1601,-101.6139C424.724,-97.9911 443.9165,-93.5237 460.2588,-89.7198\"/>\n<polygon fill=\"#000000\" stroke=\"#000000\" points=\"461.0618,-93.1265 470.008,-87.4505 459.4748,-86.3088 461.0618,-93.1265\"/>\n</g>\n<!-- loss&#45;&gt;model -->\n<g id=\"edge5\" class=\"edge\">\n<title>loss&#45;&gt;model</title>\n<path fill=\"none\" stroke=\"#000000\" d=\"M485.8474,-64.702C475.0292,-47.9029 455.8442,-23.0839 431.5848,-12.497 375.3755,12.0327 305.5838,-6.0643 256.9151,-25.5676\"/>\n<polygon fill=\"#000000\" stroke=\"#000000\" points=\"255.3751,-22.417 247.4733,-29.4748 258.0517,-28.885 255.3751,-22.417\"/>\n<text text-anchor=\"middle\" x=\"379.5894\" y=\"-16.297\" font-family=\"Times,serif\" font-size=\"14.00\" fill=\"#000000\">update</text>\n</g>\n</g>\n</svg>\n",
            "text/plain": [
              "<graphviz.files.Source at 0x7fb9e8262410>"
            ]
          },
          "execution_count": 14,
          "metadata": {},
          "output_type": "execute_result"
        }
      ],
      "source": [
        "#@title\n",
        "gv('''ordering=in\n",
        "model[shape=box3d width=1 height=0.7 label=\"Neural Network + Parameters\"]\n",
        "inputs->model->predictions; labels->loss; predictions->loss\n",
        "loss->model[constraint=false label=update]''')"
      ]
    },
    {
      "cell_type": "markdown",
      "metadata": {
        "id": "YsClsoDJLvZx"
      },
      "source": [
        "The image above is a conceptualization of what kind of process the model went through in order to achieve such a high `accuracy` and successfully predict if the input image is a cat or dog. Let's go through the process together.\n",
        "\n",
        "1. Inputs: The input is the data from our downloaded dataset. Just like above we had to prepare the data before even \"feeding\" it into our neural network.\n",
        "1. Neural Network: Just like we have learned above, the data is passed into the first input layer of the neural network and goes through each layer.\n",
        "1. Prediction: Based on the output of the output layer, a prediction is produced.\n",
        "1. Label: Aside from the prediction the model also looks at the actual content of the image which is described via the label.\n",
        "1. Loss: Now that we have a prediction and a label, we compare them and calculate a loss. The more predictions were wrong, the higher the loss. The wronger the predictions, even higher is the loss.\n",
        "1. Update: Based on the loss (if high or low), the model updates its parameters to achieve a lower loss (and higher accuracy).\n",
        "1. Parameters: The values that impact the prediction which are improved with each iteration the data goes through the model.\n",
        "\n"
      ]
    },
    {
      "cell_type": "markdown",
      "metadata": {
        "id": "LE3muSuSAkyR"
      },
      "source": [
        "Also find a Glossary below, that describes each keyword that is important in Deep Learning. Do not worry, if you are not yet able to fully comprehend each word.\n",
        "\n",
        "Deep Learning Jargon Glossary\n",
        "\n",
        "|Term | Meaning |\n",
        "|:--- | :--- |\n",
        "|Label | The data that we're trying to predict, such as \"dog\" or \"cat\"|\n",
        "|Neural Network | The existing _template_ of the series of algorithms that we're trying to ajdust to reach our objective;|\n",
        "|Model | The combination of the neural network with a particular set of parameters/weights|\n",
        "|Parameters/Weights | The values in the model that change what task it can do, and are updated through model training|\n",
        "|Fit | Update the parameters of the model such that the predictions of the model using the input data match the target labels|\n",
        "|Train | A synonym for _fit_|\n",
        "|Pretrained model | A model that has already been trained, generally using a large dataset, and will be fine-tuned|\n",
        "|Fine-tune | Update a pretrained model for a different task|\n",
        "|Epoch | One complete pass through the input data|\n",
        "|Loss | A measure of how good the model is, chosen to drive training via SGD|\n",
        "|Metric | A measurement of how good the model is, using the validation set, chosen for human consumption|\n",
        "|Validation set | A set of data held out from training, used only for measuring how good the model is|\n",
        "|Training set | The data used for fitting the model; does not include any data from the validation set|\n",
        "|Overfitting | Training a model in such a way that it _remembers_ specific features of the input data, rather than generalizing well to data not seen during training|\n",
        "|CNN | Convolutional neural network; a type of neural network that works particularly well for computer vision tasks|"
      ]
    },
    {
      "cell_type": "markdown",
      "metadata": {
        "id": "RA298tYMefhk"
      },
      "source": [
        "### Limitations Inherent To Machine Learning\n",
        "\n",
        "From this picture we can now see some fundamental things about training a deep learning model:\n",
        "\n",
        "- A model cannot be created without data.\n",
        "- A model can only learn to operate on the patterns seen in the input data used to train it.\n",
        "- This learning approach only creates *predictions*, not recommended *actions*.\n",
        "- It's not enough to just have examples of input data; we need *labels* for that data too (e.g., pictures of dogs and cats aren't enough to train a model; we need a label for each one, saying which ones are dogs, and which are cats).\n",
        "\n",
        "Generally speaking, we've seen that most organizations that say they don't have enough data, actually mean they don't have enough *labeled* data. If any organization is interested in doing something in practice with a model, then presumably they have some inputs they plan to run their model against. And presumably they've been doing that some other way for a while (e.g., manually, or with some heuristic program), so they have data from those processes! For instance, a radiology practice will almost certainly have an archive of medical scans (since they need to be able to check how their patients are progressing over time), but those scans may not have structured labels containing a list of diagnoses or interventions (since radiologists generally create free-text natural language reports, not structured data). We'll be discussing labeling approaches a lot in this book, because it's such an important issue in practice.\n",
        "\n",
        "Since these kinds of machine learning models can only make *predictions* (i.e., attempt to replicate labels), this can result in a significant gap between organizational goals and model capabilities. For instance, in this book you'll learn how to create a *recommendation system* that can predict what products a user might purchase. This is often used in e-commerce, such as to customize products shown on a home page by showing the highest-ranked items. But such a model is generally created by looking at a user and their buying history (*inputs*) and what they went on to buy or look at (*labels*), which means that the model is likely to tell you about products the user already has or already knows about, rather than new products that they are most likely to be interested in hearing about. That's very different to what, say, an expert at your local bookseller might do, where they ask questions to figure out your taste, and then tell you about authors or series that you've never heard of before."
      ]
    },
    {
      "cell_type": "markdown",
      "metadata": {
        "id": "7aHWdIBuefhk"
      },
      "source": [
        "Another critical insight comes from considering how a model interacts with its environment. This can create *feedback loops*, as described here:\n",
        "\n",
        "- A *predictive policing* model is created based on where arrests have been made in the past. In practice, this is not actually predicting crime, but rather predicting arrests, and is therefore partially simply reflecting biases in existing policing processes.\n",
        "- Law enforcement officers then might use that model to decide where to focus their police activity, resulting in increased arrests in those areas.\n",
        "- Data on these additional arrests would then be fed back in to retrain future versions of the model.\n",
        "\n",
        "This is a *positive feedback loop*, where the more the model is used, the more biased the data becomes, making the model even more biased, and so forth.\n",
        "\n",
        "Feedback loops can also create problems in commercial settings. For instance, a video recommendation system might be biased toward recommending content consumed by the biggest watchers of video (e.g., conspiracy theorists and extremists tend to watch more online video content than the average), resulting in those users increasing their video consumption, resulting in more of those kinds of videos being recommended. We'll consider this topic more in detail in <<chapter_ethics>>."
      ]
    },
    {
      "cell_type": "markdown",
      "metadata": {
        "id": "CUoMooiSJoIH"
      },
      "source": [
        "### Machine Learning Workflow"
      ]
    },
    {
      "cell_type": "code",
      "execution_count": 15,
      "metadata": {
        "colab": {
          "base_uri": "https://localhost:8080/",
          "height": 128
        },
        "id": "Lwhn9swVLNCp",
        "outputId": "e4bd487b-80d0-4ca7-eb23-64d9c9a338a0"
      },
      "outputs": [
        {
          "data": {
            "image/svg+xml": "<?xml version=\"1.0\" encoding=\"UTF-8\" standalone=\"no\"?>\n<!DOCTYPE svg PUBLIC \"-//W3C//DTD SVG 1.1//EN\"\n \"http://www.w3.org/Graphics/SVG/1.1/DTD/svg11.dtd\">\n<!-- Generated by graphviz version 2.40.1 (20161225.0304)\n -->\n<!-- Title: G Pages: 1 -->\n<svg width=\"762pt\" height=\"80pt\"\n viewBox=\"0.00 0.00 762.00 80.00\" xmlns=\"http://www.w3.org/2000/svg\" xmlns:xlink=\"http://www.w3.org/1999/xlink\">\n<g id=\"graph0\" class=\"graph\" transform=\"scale(1 1) rotate(0) translate(4 76)\">\n<title>G</title>\n<polygon fill=\"#ffffff\" stroke=\"transparent\" points=\"-4,4 -4,-76 758,-76 758,4 -4,4\"/>\n<!-- problem -->\n<g id=\"node1\" class=\"node\">\n<title>problem</title>\n<polygon fill=\"none\" stroke=\"#000000\" points=\"167,-72 4,-72 0,-68 0,0 163,0 167,-4 167,-72\"/>\n<polyline fill=\"none\" stroke=\"#000000\" points=\"163,-68 0,-68 \"/>\n<polyline fill=\"none\" stroke=\"#000000\" points=\"163,-68 163,0 \"/>\n<polyline fill=\"none\" stroke=\"#000000\" points=\"163,-68 167,-72 \"/>\n<text text-anchor=\"middle\" x=\"83.5\" y=\"-39.8\" font-family=\"Times,serif\" font-size=\"14.00\" fill=\"#000000\">Translate a Business Goal</text>\n<text text-anchor=\"middle\" x=\"83.5\" y=\"-24.8\" font-family=\"Times,serif\" font-size=\"14.00\" fill=\"#000000\"> to Machine Learning task</text>\n</g>\n<!-- dataset -->\n<g id=\"node2\" class=\"node\">\n<title>dataset</title>\n<polygon fill=\"none\" stroke=\"#000000\" points=\"322,-72 207,-72 203,-68 203,0 318,0 322,-4 322,-72\"/>\n<polyline fill=\"none\" stroke=\"#000000\" points=\"318,-68 203,-68 \"/>\n<polyline fill=\"none\" stroke=\"#000000\" points=\"318,-68 318,0 \"/>\n<polyline fill=\"none\" stroke=\"#000000\" points=\"318,-68 322,-72 \"/>\n<text text-anchor=\"middle\" x=\"262.5\" y=\"-39.8\" font-family=\"Times,serif\" font-size=\"14.00\" fill=\"#000000\">Collect and clean </text>\n<text text-anchor=\"middle\" x=\"262.5\" y=\"-24.8\" font-family=\"Times,serif\" font-size=\"14.00\" fill=\"#000000\"> your dataset</text>\n</g>\n<!-- problem&#45;&gt;dataset -->\n<g id=\"edge1\" class=\"edge\">\n<title>problem&#45;&gt;dataset</title>\n<path fill=\"none\" stroke=\"#000000\" d=\"M167.235,-36C175.7738,-36 184.3829,-36 192.7496,-36\"/>\n<polygon fill=\"#000000\" stroke=\"#000000\" points=\"192.814,-39.5001 202.814,-36 192.8139,-32.5001 192.814,-39.5001\"/>\n</g>\n<!-- transform -->\n<g id=\"node3\" class=\"node\">\n<title>transform</title>\n<polygon fill=\"none\" stroke=\"#000000\" points=\"466,-72 362,-72 358,-68 358,0 462,0 466,-4 466,-72\"/>\n<polyline fill=\"none\" stroke=\"#000000\" points=\"462,-68 358,-68 \"/>\n<polyline fill=\"none\" stroke=\"#000000\" points=\"462,-68 462,0 \"/>\n<polyline fill=\"none\" stroke=\"#000000\" points=\"462,-68 466,-72 \"/>\n<text text-anchor=\"middle\" x=\"412\" y=\"-39.8\" font-family=\"Times,serif\" font-size=\"14.00\" fill=\"#000000\">Data</text>\n<text text-anchor=\"middle\" x=\"412\" y=\"-24.8\" font-family=\"Times,serif\" font-size=\"14.00\" fill=\"#000000\"> Transformation</text>\n</g>\n<!-- dataset&#45;&gt;transform -->\n<g id=\"edge2\" class=\"edge\">\n<title>dataset&#45;&gt;transform</title>\n<path fill=\"none\" stroke=\"#000000\" d=\"M322.0159,-36C330.352,-36 338.9521,-36 347.3773,-36\"/>\n<polygon fill=\"#000000\" stroke=\"#000000\" points=\"347.5381,-39.5001 357.538,-36 347.538,-32.5001 347.5381,-39.5001\"/>\n</g>\n<!-- train -->\n<g id=\"node4\" class=\"node\">\n<title>train</title>\n<polygon fill=\"none\" stroke=\"#000000\" points=\"589,-72 506,-72 502,-68 502,0 585,0 589,-4 589,-72\"/>\n<polyline fill=\"none\" stroke=\"#000000\" points=\"585,-68 502,-68 \"/>\n<polyline fill=\"none\" stroke=\"#000000\" points=\"585,-68 585,0 \"/>\n<polyline fill=\"none\" stroke=\"#000000\" points=\"585,-68 589,-72 \"/>\n<text text-anchor=\"middle\" x=\"545.5\" y=\"-39.8\" font-family=\"Times,serif\" font-size=\"14.00\" fill=\"#000000\">Train </text>\n<text text-anchor=\"middle\" x=\"545.5\" y=\"-24.8\" font-family=\"Times,serif\" font-size=\"14.00\" fill=\"#000000\"> your model</text>\n</g>\n<!-- transform&#45;&gt;train -->\n<g id=\"edge3\" class=\"edge\">\n<title>transform&#45;&gt;train</title>\n<path fill=\"none\" stroke=\"#000000\" d=\"M466.2996,-36C474.7162,-36 483.4067,-36 491.8098,-36\"/>\n<polygon fill=\"#000000\" stroke=\"#000000\" points=\"491.8795,-39.5001 501.8795,-36 491.8795,-32.5001 491.8795,-39.5001\"/>\n</g>\n<!-- predict -->\n<g id=\"node5\" class=\"node\">\n<title>predict</title>\n<polygon fill=\"none\" stroke=\"#000000\" points=\"754,-72 629,-72 625,-68 625,0 750,0 754,-4 754,-72\"/>\n<polyline fill=\"none\" stroke=\"#000000\" points=\"750,-68 625,-68 \"/>\n<polyline fill=\"none\" stroke=\"#000000\" points=\"750,-68 750,0 \"/>\n<polyline fill=\"none\" stroke=\"#000000\" points=\"750,-68 754,-72 \"/>\n<text text-anchor=\"middle\" x=\"689.5\" y=\"-47.3\" font-family=\"Times,serif\" font-size=\"14.00\" fill=\"#000000\">Interpret the model </text>\n<text text-anchor=\"middle\" x=\"689.5\" y=\"-32.3\" font-family=\"Times,serif\" font-size=\"14.00\" fill=\"#000000\"> and make </text>\n<text text-anchor=\"middle\" x=\"689.5\" y=\"-17.3\" font-family=\"Times,serif\" font-size=\"14.00\" fill=\"#000000\"> predictions</text>\n</g>\n<!-- train&#45;&gt;predict -->\n<g id=\"edge4\" class=\"edge\">\n<title>train&#45;&gt;predict</title>\n<path fill=\"none\" stroke=\"#000000\" d=\"M589.0955,-36C597.1872,-36 605.8489,-36 614.568,-36\"/>\n<polygon fill=\"#000000\" stroke=\"#000000\" points=\"614.7992,-39.5001 624.7991,-36 614.7991,-32.5001 614.7992,-39.5001\"/>\n</g>\n</g>\n</svg>\n",
            "text/plain": [
              "<graphviz.files.Source at 0x7fb9e8255310>"
            ]
          },
          "execution_count": 15,
          "metadata": {},
          "output_type": "execute_result"
        }
      ],
      "source": [
        "#@title\n",
        "gv('''ordering=in\n",
        "problem[shape=box3d width=1 height=1 label=\"Translate a Business Goal\\n to Machine Learning task\"]\n",
        "dataset[shape=box3d width=1 height=1 label=\"Collect and clean \\n your dataset\"]\n",
        "transform[shape=box3d width=1 height=1 label=\"Data\\n Transformation\"]\n",
        "train[shape=box3d width=1 height=1 label=\"Train \\n your model\"]\n",
        "predict[shape=box3d width=1 height=1 label=\"Interpret the model \\n and make \\n predictions\"]\n",
        "problem->dataset->transform->train->predict''')"
      ]
    },
    {
      "cell_type": "markdown",
      "metadata": {
        "id": "uatMU4v1vwax"
      },
      "source": [
        "Over the next weeks we will be applying the Machine Learning Workflow to all our ML applications. It is integral to any machine learning model.\n",
        "\n",
        "1. *Translate a Business Goal to Machine Learning task:* Define your objective, dataset, the model you intend to build and the metrics you want to measure. It is important to do your research to see if labeled data already exists, where it comes from to define how you should define it for your model. What is your input and output?\n",
        "\n",
        "2. *Collect and construct your dataset:* This is the most time-intensive effort of the job of a machine learning engineer. After having defined your dataset you have to start (1) collecting it, (2) identify feature and label sources, (3) select a sampling strategy, and (4) split the data into different sets.\n",
        "\n",
        "3. *Data Transformation:* Data Transformation is absolutely necessary for data compatibility. The data that is collected and constructed has to be transformed in order for the model to be able to process it. Apart of converting data types, resizing inputs to a fixed size, and other transformations you also have to explore and clean your data (i.e. examine rows of data, fix entries etc.).\n",
        "\n",
        "4. *Train your model:* Training means creating or learning the model. That is, you show the model labeled examples and enable the model to gradually learn the relationships between features and labels. You will realise that this process is automatic and you will have to closely pay attention to the key metrics you defined in step 1.\n",
        "\n",
        "5. *Interpret the model and make predictions:* Once the model is successfully trained you will be able to interpret its performance using various visualization and interpretation methods. Machine learning inference means to apply the trained model to unlabeled examples it has never seen before and make actual predictions on the data.\n",
        "\n",
        "Some of the steps might seem confusing and not entirely clear. That is excactly why we will jointly build 4 Machine Learning applications to go through each step in practice. Keep these steps in mind while going through the following notebooks."
      ]
    },
    {
      "cell_type": "markdown",
      "metadata": {
        "id": "WQb0QGALefhk"
      },
      "source": [
        "Now that you have seen the base of the theory, we will dive into practice next week. We will go back to our code example and see in detail how the code corresponds to the process we just described."
      ]
    },
    {
      "cell_type": "markdown",
      "metadata": {
        "id": "m-zjiIJEaU-f"
      },
      "source": [
        "## unpackAI Assignment Section"
      ]
    },
    {
      "cell_type": "markdown",
      "metadata": {
        "id": "tG48diZ-ayu7"
      },
      "source": [
        "Congratulations on getting to the end of this Coursebook and no worries at all if you struggled with some of the theory and did not fully understand what was taught here as your actual learning starts from here.\n",
        "\n",
        "For your deliverables you will have to work on a separate Notebook."
      ]
    },
    {
      "cell_type": "markdown",
      "metadata": {
        "id": "kj06TS0rjAnz"
      },
      "source": [
        "# End of the Notebook & Class Preview\n",
        "\n",
        "You have finished the first notebook of the unpackAI Bootcamp. Amazing🥳! We are excited to discuss the content and test you in the upcoming Presentation Session.\n",
        "\n",
        "It is normal to feel overwhelmed. Your brain needs some more time to process new information."
      ]
    }
  ],
  "metadata": {
    "accelerator": "GPU",
    "colab": {
      "collapsed_sections": [],
      "include_colab_link": true,
      "name": "00_Intro_Coursebook.ipynb",
      "provenance": []
    },
    "kernelspec": {
      "display_name": "Python 3.8.5 64-bit ('base': conda)",
      "metadata": {
        "interpreter": {
          "hash": "f54b266a549ecb03d7270e8300efd4d5308442744b8e77ba48ae6ca952686fd1"
        }
      },
      "name": "python3"
    },
    "language_info": {
      "codemirror_mode": {
        "name": "ipython",
        "version": 3
      },
      "file_extension": ".py",
      "mimetype": "text/x-python",
      "name": "python",
      "nbconvert_exporter": "python",
      "pygments_lexer": "ipython3",
      "version": "3.8.5"
    },
    "orig_nbformat": 2,
    "widgets": {
      "application/vnd.jupyter.widget-state+json": {
        "7f520c38f2f04c419f24de5534d0db23": {
          "model_module": "@jupyter-widgets/controls",
          "model_module_version": "1.5.0",
          "model_name": "FileUploadModel",
          "state": {
            "_counter": 1,
            "_dom_classes": [],
            "_model_module": "@jupyter-widgets/controls",
            "_model_module_version": "1.5.0",
            "_model_name": "FileUploadModel",
            "_view_count": null,
            "_view_module": "@jupyter-widgets/controls",
            "_view_module_version": "1.5.0",
            "_view_name": "FileUploadView",
            "accept": "",
            "button_style": "",
            "data": [
              null
            ],
            "description": "Upload",
            "description_tooltip": null,
            "disabled": false,
            "error": "",
            "icon": "upload",
            "layout": "IPY_MODEL_d404aa67ce7d4fff94efa6d5785b05a5",
            "metadata": [
              {
                "lastModified": 1648793623085,
                "name": "teddy dog.jpg",
                "size": 5667,
                "type": "image/jpeg"
              }
            ],
            "multiple": false,
            "style": "IPY_MODEL_95973d5d9df246aa82f7c10b40328493"
          }
        },
        "95973d5d9df246aa82f7c10b40328493": {
          "model_module": "@jupyter-widgets/controls",
          "model_module_version": "1.5.0",
          "model_name": "ButtonStyleModel",
          "state": {
            "_model_module": "@jupyter-widgets/controls",
            "_model_module_version": "1.5.0",
            "_model_name": "ButtonStyleModel",
            "_view_count": null,
            "_view_module": "@jupyter-widgets/base",
            "_view_module_version": "1.2.0",
            "_view_name": "StyleView",
            "button_color": null,
            "font_weight": ""
          }
        },
        "d404aa67ce7d4fff94efa6d5785b05a5": {
          "model_module": "@jupyter-widgets/base",
          "model_module_version": "1.2.0",
          "model_name": "LayoutModel",
          "state": {
            "_model_module": "@jupyter-widgets/base",
            "_model_module_version": "1.2.0",
            "_model_name": "LayoutModel",
            "_view_count": null,
            "_view_module": "@jupyter-widgets/base",
            "_view_module_version": "1.2.0",
            "_view_name": "LayoutView",
            "align_content": null,
            "align_items": null,
            "align_self": null,
            "border": null,
            "bottom": null,
            "display": null,
            "flex": null,
            "flex_flow": null,
            "grid_area": null,
            "grid_auto_columns": null,
            "grid_auto_flow": null,
            "grid_auto_rows": null,
            "grid_column": null,
            "grid_gap": null,
            "grid_row": null,
            "grid_template_areas": null,
            "grid_template_columns": null,
            "grid_template_rows": null,
            "height": null,
            "justify_content": null,
            "justify_items": null,
            "left": null,
            "margin": null,
            "max_height": null,
            "max_width": null,
            "min_height": null,
            "min_width": null,
            "object_fit": null,
            "object_position": null,
            "order": null,
            "overflow": null,
            "overflow_x": null,
            "overflow_y": null,
            "padding": null,
            "right": null,
            "top": null,
            "visibility": null,
            "width": null
          }
        }
      }
    }
  },
  "nbformat": 4,
  "nbformat_minor": 0
}
