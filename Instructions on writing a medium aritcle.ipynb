{
  "nbformat": 4,
  "nbformat_minor": 0,
  "metadata": {
    "orig_nbformat": 2,
    "colab": {
      "name": "[Workbook] week_04_final_project.ipynb",
      "provenance": [],
      "collapsed_sections": [],
      "include_colab_link": true
    },
    "language_info": {
      "name": "python"
    },
    "kernelspec": {
      "name": "python3",
      "display_name": "Python 3"
    },
    "accelerator": "GPU"
  },
  "cells": [
    {
      "cell_type": "markdown",
      "metadata": {
        "id": "view-in-github",
        "colab_type": "text"
      },
      "source": [
        "<a href=\"https://colab.research.google.com/github/unpackAI/DL101/blob/main/Instructions%20on%20writing%20a%20medium%20aritcle.ipynb\" target=\"_parent\"><img src=\"https://colab.research.google.com/assets/colab-badge.svg\" alt=\"Open In Colab\"/></a>"
      ]
    },
    {
      "cell_type": "markdown",
      "metadata": {
        "id": "MhAqnT6aZ_sO"
      },
      "source": [
        "Prepare a written thesis\n"
      ]
    },
    {
      "cell_type": "markdown",
      "metadata": {
        "id": "spzJJjkh83CI"
      },
      "source": [
        "Now that you have scoped your AI Project, you are encouraged to write a thesis about your AI use case with a minimum of 300 words. Please write the thesis within **Medium** (see below for more information).\n",
        "\n",
        "A good example of the article is here: https://www.the-yuan.com/193/China-Leads-World-in-AI-Adoption-Today.html"
      ]
    },
    {
      "cell_type": "markdown",
      "metadata": {
        "id": "HLtKswAX5_KA"
      },
      "source": [
        "#### Publish your article Medium"
      ]
    },
    {
      "cell_type": "markdown",
      "metadata": {
        "id": "FRnRS_Ix6EfV"
      },
      "source": [
        "We want you to publish your written thesis on Medium.Below is a step-by-step guide on how to publish on Medium.\n",
        "\n",
        "Create a medium account.\n",
        "\n",
        "1. Create a [Medium Account](https://medium.com/) and confirm with us that you did by providing us with the email that you signed up with.\n",
        "2. Have a look at the [unpackAI Medium publication](https://medium.com/unpackai) and follow us.\n",
        "3. After finalising your thesis within Medium add your draft to our Medium publication. We will review and publish it for you. [Click here to find out how to add your thesis.](https://help.medium.com/hc/en-us/articles/213904978-Add-a-draft-or-post-to-publication)\n",
        "\n",
        "*WHY TO PUBLISH ON MEDIUM?* Medium is a great place to share great content. The thesis is an exercise for you to verbalise your thoughts and process on how you build your own Deep Learning Model. Moreover, its a great way for you to build your own portfolio."
      ]
    },
    {
      "cell_type": "code",
      "source": [
        ""
      ],
      "metadata": {
        "id": "aDqsXUtThnzx"
      },
      "execution_count": null,
      "outputs": []
    }
  ]
}